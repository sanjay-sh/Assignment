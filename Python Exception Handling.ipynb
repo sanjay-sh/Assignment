{
 "cells": [
  {
   "cell_type": "code",
   "execution_count": 3,
   "metadata": {},
   "outputs": [
    {
     "name": "stdout",
     "output_type": "stream",
     "text": [
      "Error in division: division by zero\n"
     ]
    }
   ],
   "source": [
    "try:\n",
    "    5/0\n",
    "except Exception as e:\n",
    "    print(\"Error in division:\",e)\n",
    "        "
   ]
  },
  {
   "cell_type": "code",
   "execution_count": 4,
   "metadata": {},
   "outputs": [
    {
     "name": "stdout",
     "output_type": "stream",
     "text": [
      "Americans  play Baseball.\n",
      "Americans  play Cricket.\n",
      "Americans  watch Baseball.\n",
      "Americans  watch Cricket.\n",
      "Indians play Baseball.\n",
      "Indians play Cricket.\n",
      "Indians watch Baseball.\n",
      "Indians watch Cricket.\n"
     ]
    }
   ],
   "source": [
    "subjects= [\"Americans \",\"Indians\"]\n",
    "verbs= [\"play\",\"watch\"]\n",
    "objects= [\"Baseball\",\"Cricket\"]\n",
    "string1 = [subjects[i]+' '+verbs[j]+' '+objects[k]+'.' for i in range(len(subjects)) for j in range(len(verbs)) for k in range(len(objects))]\n",
    "print(string1[0])\n",
    "print(string1[1])\n",
    "print(string1[2])\n",
    "print(string1[3])\n",
    "print(string1[4])\n",
    "print(string1[5])\n",
    "print(string1[6])\n",
    "print(string1[7])"
   ]
  },
  {
   "cell_type": "code",
   "execution_count": null,
   "metadata": {},
   "outputs": [],
   "source": []
  }
 ],
 "metadata": {
  "kernelspec": {
   "display_name": "Python 3",
   "language": "python",
   "name": "python3"
  },
  "language_info": {
   "codemirror_mode": {
    "name": "ipython",
    "version": 3
   },
   "file_extension": ".py",
   "mimetype": "text/x-python",
   "name": "python",
   "nbconvert_exporter": "python",
   "pygments_lexer": "ipython3",
   "version": "3.7.1"
  }
 },
 "nbformat": 4,
 "nbformat_minor": 2
}

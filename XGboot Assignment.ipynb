{
 "cells": [
  {
   "cell_type": "code",
   "execution_count": 118,
   "metadata": {},
   "outputs": [],
   "source": [
    "import numpy as np\n",
    "import pandas as pd\n",
    "import matplotlib.pyplot as plt\n",
    "import sklearn\n",
    "from xgboost.sklearn import XGBClassifier\n",
    "#train_set = pd.read_csv('https://archive.ics.uci.edu/ml/machine-learning-databases/adult/adult.data', header = None)"
   ]
  },
  {
   "cell_type": "code",
   "execution_count": 71,
   "metadata": {},
   "outputs": [
    {
     "data": {
      "text/html": [
       "<div>\n",
       "<style scoped>\n",
       "    .dataframe tbody tr th:only-of-type {\n",
       "        vertical-align: middle;\n",
       "    }\n",
       "\n",
       "    .dataframe tbody tr th {\n",
       "        vertical-align: top;\n",
       "    }\n",
       "\n",
       "    .dataframe thead th {\n",
       "        text-align: right;\n",
       "    }\n",
       "</style>\n",
       "<table border=\"1\" class=\"dataframe\">\n",
       "  <thead>\n",
       "    <tr style=\"text-align: right;\">\n",
       "      <th></th>\n",
       "      <th>age</th>\n",
       "      <th>workclass</th>\n",
       "      <th>fnlwgt</th>\n",
       "      <th>education</th>\n",
       "      <th>education-num</th>\n",
       "      <th>marital-status</th>\n",
       "      <th>occupation</th>\n",
       "      <th>relationship</th>\n",
       "      <th>race</th>\n",
       "      <th>sex</th>\n",
       "      <th>capital-gain</th>\n",
       "      <th>capital-loss</th>\n",
       "      <th>hours-per-week</th>\n",
       "      <th>native-country</th>\n",
       "      <th>wage_class</th>\n",
       "    </tr>\n",
       "  </thead>\n",
       "  <tbody>\n",
       "    <tr>\n",
       "      <th>0</th>\n",
       "      <td>39</td>\n",
       "      <td>State-gov</td>\n",
       "      <td>77516</td>\n",
       "      <td>Bachelors</td>\n",
       "      <td>13</td>\n",
       "      <td>Never-married</td>\n",
       "      <td>Adm-clerical</td>\n",
       "      <td>Not-in-family</td>\n",
       "      <td>White</td>\n",
       "      <td>Male</td>\n",
       "      <td>2174</td>\n",
       "      <td>0</td>\n",
       "      <td>40</td>\n",
       "      <td>United-States</td>\n",
       "      <td>&lt;=50K</td>\n",
       "    </tr>\n",
       "    <tr>\n",
       "      <th>1</th>\n",
       "      <td>50</td>\n",
       "      <td>Self-emp-not-inc</td>\n",
       "      <td>83311</td>\n",
       "      <td>Bachelors</td>\n",
       "      <td>13</td>\n",
       "      <td>Married-civ-spouse</td>\n",
       "      <td>Exec-managerial</td>\n",
       "      <td>Husband</td>\n",
       "      <td>White</td>\n",
       "      <td>Male</td>\n",
       "      <td>0</td>\n",
       "      <td>0</td>\n",
       "      <td>13</td>\n",
       "      <td>United-States</td>\n",
       "      <td>&lt;=50K</td>\n",
       "    </tr>\n",
       "    <tr>\n",
       "      <th>2</th>\n",
       "      <td>38</td>\n",
       "      <td>Private</td>\n",
       "      <td>215646</td>\n",
       "      <td>HS-grad</td>\n",
       "      <td>9</td>\n",
       "      <td>Divorced</td>\n",
       "      <td>Handlers-cleaners</td>\n",
       "      <td>Not-in-family</td>\n",
       "      <td>White</td>\n",
       "      <td>Male</td>\n",
       "      <td>0</td>\n",
       "      <td>0</td>\n",
       "      <td>40</td>\n",
       "      <td>United-States</td>\n",
       "      <td>&lt;=50K</td>\n",
       "    </tr>\n",
       "    <tr>\n",
       "      <th>3</th>\n",
       "      <td>53</td>\n",
       "      <td>Private</td>\n",
       "      <td>234721</td>\n",
       "      <td>11th</td>\n",
       "      <td>7</td>\n",
       "      <td>Married-civ-spouse</td>\n",
       "      <td>Handlers-cleaners</td>\n",
       "      <td>Husband</td>\n",
       "      <td>Black</td>\n",
       "      <td>Male</td>\n",
       "      <td>0</td>\n",
       "      <td>0</td>\n",
       "      <td>40</td>\n",
       "      <td>United-States</td>\n",
       "      <td>&lt;=50K</td>\n",
       "    </tr>\n",
       "    <tr>\n",
       "      <th>4</th>\n",
       "      <td>28</td>\n",
       "      <td>Private</td>\n",
       "      <td>338409</td>\n",
       "      <td>Bachelors</td>\n",
       "      <td>13</td>\n",
       "      <td>Married-civ-spouse</td>\n",
       "      <td>Prof-specialty</td>\n",
       "      <td>Wife</td>\n",
       "      <td>Black</td>\n",
       "      <td>Female</td>\n",
       "      <td>0</td>\n",
       "      <td>0</td>\n",
       "      <td>40</td>\n",
       "      <td>Cuba</td>\n",
       "      <td>&lt;=50K</td>\n",
       "    </tr>\n",
       "  </tbody>\n",
       "</table>\n",
       "</div>"
      ],
      "text/plain": [
       "   age          workclass  fnlwgt   education  education-num  \\\n",
       "0   39          State-gov   77516   Bachelors             13   \n",
       "1   50   Self-emp-not-inc   83311   Bachelors             13   \n",
       "2   38            Private  215646     HS-grad              9   \n",
       "3   53            Private  234721        11th              7   \n",
       "4   28            Private  338409   Bachelors             13   \n",
       "\n",
       "        marital-status          occupation    relationship    race      sex  \\\n",
       "0        Never-married        Adm-clerical   Not-in-family   White     Male   \n",
       "1   Married-civ-spouse     Exec-managerial         Husband   White     Male   \n",
       "2             Divorced   Handlers-cleaners   Not-in-family   White     Male   \n",
       "3   Married-civ-spouse   Handlers-cleaners         Husband   Black     Male   \n",
       "4   Married-civ-spouse      Prof-specialty            Wife   Black   Female   \n",
       "\n",
       "   capital-gain  capital-loss  hours-per-week  native-country wage_class  \n",
       "0          2174             0              40   United-States      <=50K  \n",
       "1             0             0              13   United-States      <=50K  \n",
       "2             0             0              40   United-States      <=50K  \n",
       "3             0             0              40   United-States      <=50K  \n",
       "4             0             0              40            Cuba      <=50K  "
      ]
     },
     "execution_count": 71,
     "metadata": {},
     "output_type": "execute_result"
    }
   ],
   "source": [
    "#url='./adult.data'\n",
    "#columns name according to adult.names\n",
    "cols=[\"age\",\"workclass\",\"fnlwgt\",\"education\",\"education-num\",\"marital-status\", \"occupation\", \"relationship\", \"race\", \"sex\", \"capital-gain\", \"capital-loss\", \"hours-per-week\",\"native-country\",\"wage_class\"]\n",
    "\n",
    "train_set=pd.read_csv('adult.data', names=cols)   # reading and setting names\n",
    "\n",
    "train_set.head()\n"
   ]
  },
  {
   "cell_type": "code",
   "execution_count": 72,
   "metadata": {},
   "outputs": [],
   "source": [
    "test_set = pd.read_csv('https://archive.ics.uci.edu/ml/machine-learning-databases/adult/adult.test', skiprows = 1, header = None)\n",
    "test_set.columns = cols"
   ]
  },
  {
   "cell_type": "code",
   "execution_count": 73,
   "metadata": {},
   "outputs": [
    {
     "data": {
      "text/html": [
       "<div>\n",
       "<style scoped>\n",
       "    .dataframe tbody tr th:only-of-type {\n",
       "        vertical-align: middle;\n",
       "    }\n",
       "\n",
       "    .dataframe tbody tr th {\n",
       "        vertical-align: top;\n",
       "    }\n",
       "\n",
       "    .dataframe thead th {\n",
       "        text-align: right;\n",
       "    }\n",
       "</style>\n",
       "<table border=\"1\" class=\"dataframe\">\n",
       "  <thead>\n",
       "    <tr style=\"text-align: right;\">\n",
       "      <th></th>\n",
       "      <th>age</th>\n",
       "      <th>workclass</th>\n",
       "      <th>fnlwgt</th>\n",
       "      <th>education</th>\n",
       "      <th>education-num</th>\n",
       "      <th>marital-status</th>\n",
       "      <th>occupation</th>\n",
       "      <th>relationship</th>\n",
       "      <th>race</th>\n",
       "      <th>sex</th>\n",
       "      <th>capital-gain</th>\n",
       "      <th>capital-loss</th>\n",
       "      <th>hours-per-week</th>\n",
       "      <th>native-country</th>\n",
       "      <th>wage_class</th>\n",
       "    </tr>\n",
       "  </thead>\n",
       "  <tbody>\n",
       "    <tr>\n",
       "      <th>0</th>\n",
       "      <td>25</td>\n",
       "      <td>Private</td>\n",
       "      <td>226802</td>\n",
       "      <td>11th</td>\n",
       "      <td>7</td>\n",
       "      <td>Never-married</td>\n",
       "      <td>Machine-op-inspct</td>\n",
       "      <td>Own-child</td>\n",
       "      <td>Black</td>\n",
       "      <td>Male</td>\n",
       "      <td>0</td>\n",
       "      <td>0</td>\n",
       "      <td>40</td>\n",
       "      <td>United-States</td>\n",
       "      <td>&lt;=50K.</td>\n",
       "    </tr>\n",
       "    <tr>\n",
       "      <th>1</th>\n",
       "      <td>38</td>\n",
       "      <td>Private</td>\n",
       "      <td>89814</td>\n",
       "      <td>HS-grad</td>\n",
       "      <td>9</td>\n",
       "      <td>Married-civ-spouse</td>\n",
       "      <td>Farming-fishing</td>\n",
       "      <td>Husband</td>\n",
       "      <td>White</td>\n",
       "      <td>Male</td>\n",
       "      <td>0</td>\n",
       "      <td>0</td>\n",
       "      <td>50</td>\n",
       "      <td>United-States</td>\n",
       "      <td>&lt;=50K.</td>\n",
       "    </tr>\n",
       "    <tr>\n",
       "      <th>2</th>\n",
       "      <td>28</td>\n",
       "      <td>Local-gov</td>\n",
       "      <td>336951</td>\n",
       "      <td>Assoc-acdm</td>\n",
       "      <td>12</td>\n",
       "      <td>Married-civ-spouse</td>\n",
       "      <td>Protective-serv</td>\n",
       "      <td>Husband</td>\n",
       "      <td>White</td>\n",
       "      <td>Male</td>\n",
       "      <td>0</td>\n",
       "      <td>0</td>\n",
       "      <td>40</td>\n",
       "      <td>United-States</td>\n",
       "      <td>&gt;50K.</td>\n",
       "    </tr>\n",
       "    <tr>\n",
       "      <th>3</th>\n",
       "      <td>44</td>\n",
       "      <td>Private</td>\n",
       "      <td>160323</td>\n",
       "      <td>Some-college</td>\n",
       "      <td>10</td>\n",
       "      <td>Married-civ-spouse</td>\n",
       "      <td>Machine-op-inspct</td>\n",
       "      <td>Husband</td>\n",
       "      <td>Black</td>\n",
       "      <td>Male</td>\n",
       "      <td>7688</td>\n",
       "      <td>0</td>\n",
       "      <td>40</td>\n",
       "      <td>United-States</td>\n",
       "      <td>&gt;50K.</td>\n",
       "    </tr>\n",
       "    <tr>\n",
       "      <th>4</th>\n",
       "      <td>18</td>\n",
       "      <td>?</td>\n",
       "      <td>103497</td>\n",
       "      <td>Some-college</td>\n",
       "      <td>10</td>\n",
       "      <td>Never-married</td>\n",
       "      <td>?</td>\n",
       "      <td>Own-child</td>\n",
       "      <td>White</td>\n",
       "      <td>Female</td>\n",
       "      <td>0</td>\n",
       "      <td>0</td>\n",
       "      <td>30</td>\n",
       "      <td>United-States</td>\n",
       "      <td>&lt;=50K.</td>\n",
       "    </tr>\n",
       "  </tbody>\n",
       "</table>\n",
       "</div>"
      ],
      "text/plain": [
       "   age   workclass  fnlwgt      education  education-num       marital-status  \\\n",
       "0   25     Private  226802           11th              7        Never-married   \n",
       "1   38     Private   89814        HS-grad              9   Married-civ-spouse   \n",
       "2   28   Local-gov  336951     Assoc-acdm             12   Married-civ-spouse   \n",
       "3   44     Private  160323   Some-college             10   Married-civ-spouse   \n",
       "4   18           ?  103497   Some-college             10        Never-married   \n",
       "\n",
       "           occupation relationship    race      sex  capital-gain  \\\n",
       "0   Machine-op-inspct    Own-child   Black     Male             0   \n",
       "1     Farming-fishing      Husband   White     Male             0   \n",
       "2     Protective-serv      Husband   White     Male             0   \n",
       "3   Machine-op-inspct      Husband   Black     Male          7688   \n",
       "4                   ?    Own-child   White   Female             0   \n",
       "\n",
       "   capital-loss  hours-per-week  native-country wage_class  \n",
       "0             0              40   United-States     <=50K.  \n",
       "1             0              50   United-States     <=50K.  \n",
       "2             0              40   United-States      >50K.  \n",
       "3             0              40   United-States      >50K.  \n",
       "4             0              30   United-States     <=50K.  "
      ]
     },
     "execution_count": 73,
     "metadata": {},
     "output_type": "execute_result"
    }
   ],
   "source": [
    "test_set.head()"
   ]
  },
  {
   "cell_type": "code",
   "execution_count": 74,
   "metadata": {},
   "outputs": [
    {
     "data": {
      "text/plain": [
       "age               0\n",
       "workclass         0\n",
       "fnlwgt            0\n",
       "education         0\n",
       "education-num     0\n",
       "marital-status    0\n",
       "occupation        0\n",
       "relationship      0\n",
       "race              0\n",
       "sex               0\n",
       "capital-gain      0\n",
       "capital-loss      0\n",
       "hours-per-week    0\n",
       "native-country    0\n",
       "wage_class        0\n",
       "dtype: int64"
      ]
     },
     "execution_count": 74,
     "metadata": {},
     "output_type": "execute_result"
    }
   ],
   "source": [
    "train_set.isnull().sum()"
   ]
  },
  {
   "cell_type": "code",
   "execution_count": 75,
   "metadata": {},
   "outputs": [
    {
     "data": {
      "image/png": "[encoded data removed]",
      "text/plain": [
       "<Figure size 720x720 with 6 Axes>"
      ]
     },
     "metadata": {
      "needs_background": "light"
     },
     "output_type": "display_data"
    }
   ],
   "source": [
    "train_set.hist(figsize=(10,10))\n",
    "plt.show()"
   ]
  },
  {
   "cell_type": "code",
   "execution_count": 76,
   "metadata": {},
   "outputs": [
    {
     "data": {
      "text/plain": [
       "age               0\n",
       "workclass         0\n",
       "fnlwgt            0\n",
       "education         0\n",
       "education-num     0\n",
       "marital-status    0\n",
       "occupation        0\n",
       "relationship      0\n",
       "race              0\n",
       "sex               0\n",
       "capital-gain      0\n",
       "capital-loss      0\n",
       "hours-per-week    0\n",
       "native-country    0\n",
       "wage_class        0\n",
       "dtype: int64"
      ]
     },
     "execution_count": 76,
     "metadata": {},
     "output_type": "execute_result"
    }
   ],
   "source": [
    "test_set.isnull().sum()"
   ]
  },
  {
   "cell_type": "code",
   "execution_count": 77,
   "metadata": {},
   "outputs": [
    {
     "data": {
      "text/plain": [
       "age                int64\n",
       "workclass         object\n",
       "fnlwgt             int64\n",
       "education         object\n",
       "education-num      int64\n",
       "marital-status    object\n",
       "occupation        object\n",
       "relationship      object\n",
       "race              object\n",
       "sex               object\n",
       "capital-gain       int64\n",
       "capital-loss       int64\n",
       "hours-per-week     int64\n",
       "native-country    object\n",
       "wage_class        object\n",
       "dtype: object"
      ]
     },
     "execution_count": 77,
     "metadata": {},
     "output_type": "execute_result"
    }
   ],
   "source": [
    "train_set.dtypes"
   ]
  },
  {
   "cell_type": "code",
   "execution_count": 78,
   "metadata": {},
   "outputs": [
    {
     "name": "stdout",
     "output_type": "stream",
     "text": [
      "__________ workclass __________\n",
      " Private             22696\n",
      " Self-emp-not-inc     2541\n",
      " Local-gov            2093\n",
      " ?                    1836\n",
      " State-gov            1298\n",
      " Self-emp-inc         1116\n",
      " Federal-gov           960\n",
      " Without-pay            14\n",
      " Never-worked            7\n",
      "Name: workclass, dtype: int64\n",
      "__________ education __________\n",
      " HS-grad         10501\n",
      " Some-college     7291\n",
      " Bachelors        5355\n",
      " Masters          1723\n",
      " Assoc-voc        1382\n",
      " 11th             1175\n",
      " Assoc-acdm       1067\n",
      " 10th              933\n",
      " 7th-8th           646\n",
      " Prof-school       576\n",
      " 9th               514\n",
      " 12th              433\n",
      " Doctorate         413\n",
      " 5th-6th           333\n",
      " 1st-4th           168\n",
      " Preschool          51\n",
      "Name: education, dtype: int64\n",
      "__________ marital-status __________\n",
      " Married-civ-spouse       14976\n",
      " Never-married            10683\n",
      " Divorced                  4443\n",
      " Separated                 1025\n",
      " Widowed                    993\n",
      " Married-spouse-absent      418\n",
      " Married-AF-spouse           23\n",
      "Name: marital-status, dtype: int64\n",
      "__________ occupation __________\n",
      " Prof-specialty       4140\n",
      " Craft-repair         4099\n",
      " Exec-managerial      4066\n",
      " Adm-clerical         3770\n",
      " Sales                3650\n",
      " Other-service        3295\n",
      " Machine-op-inspct    2002\n",
      " ?                    1843\n",
      " Transport-moving     1597\n",
      " Handlers-cleaners    1370\n",
      " Farming-fishing       994\n",
      " Tech-support          928\n",
      " Protective-serv       649\n",
      " Priv-house-serv       149\n",
      " Armed-Forces            9\n",
      "Name: occupation, dtype: int64\n",
      "__________ relationship __________\n",
      " Husband           13193\n",
      " Not-in-family      8305\n",
      " Own-child          5068\n",
      " Unmarried          3446\n",
      " Wife               1568\n",
      " Other-relative      981\n",
      "Name: relationship, dtype: int64\n",
      "__________ race __________\n",
      " White                 27816\n",
      " Black                  3124\n",
      " Asian-Pac-Islander     1039\n",
      " Amer-Indian-Eskimo      311\n",
      " Other                   271\n",
      "Name: race, dtype: int64\n",
      "__________ sex __________\n",
      " Male      21790\n",
      " Female    10771\n",
      "Name: sex, dtype: int64\n",
      "__________ native-country __________\n",
      " United-States                 29170\n",
      " Mexico                          643\n",
      " ?                               583\n",
      " Philippines                     198\n",
      " Germany                         137\n",
      " Canada                          121\n",
      " Puerto-Rico                     114\n",
      " El-Salvador                     106\n",
      " India                           100\n",
      " Cuba                             95\n",
      " England                          90\n",
      " Jamaica                          81\n",
      " South                            80\n",
      " China                            75\n",
      " Italy                            73\n",
      " Dominican-Republic               70\n",
      " Vietnam                          67\n",
      " Guatemala                        64\n",
      " Japan                            62\n",
      " Poland                           60\n",
      " Columbia                         59\n",
      " Taiwan                           51\n",
      " Haiti                            44\n",
      " Iran                             43\n",
      " Portugal                         37\n",
      " Nicaragua                        34\n",
      " Peru                             31\n",
      " Greece                           29\n",
      " France                           29\n",
      " Ecuador                          28\n",
      " Ireland                          24\n",
      " Hong                             20\n",
      " Trinadad&Tobago                  19\n",
      " Cambodia                         19\n",
      " Thailand                         18\n",
      " Laos                             18\n",
      " Yugoslavia                       16\n",
      " Outlying-US(Guam-USVI-etc)       14\n",
      " Honduras                         13\n",
      " Hungary                          13\n",
      " Scotland                         12\n",
      " Holand-Netherlands                1\n",
      "Name: native-country, dtype: int64\n",
      "__________ wage_class __________\n",
      " <=50K    24720\n",
      " >50K      7841\n",
      "Name: wage_class, dtype: int64\n"
     ]
    }
   ],
   "source": [
    "for feature in cols:\n",
    "    if train_set[feature].dtype == 'object':\n",
    "        \n",
    "        print('_'*10,feature, end=\" \",)\n",
    "        print('_'*10)\n",
    "        print(train_set[feature].value_counts())"
   ]
  },
  {
   "cell_type": "code",
   "execution_count": 79,
   "metadata": {},
   "outputs": [
    {
     "data": {
      "text/plain": [
       "Index(['age', 'workclass', 'fnlwgt', 'education', 'education-num',\n",
       "       'marital-status', 'occupation', 'relationship', 'race', 'sex',\n",
       "       'capital-gain', 'capital-loss', 'hours-per-week', 'native-country',\n",
       "       'wage_class'],\n",
       "      dtype='object')"
      ]
     },
     "execution_count": 79,
     "metadata": {},
     "output_type": "execute_result"
    }
   ],
   "source": [
    "train_set.columns"
   ]
  },
  {
   "cell_type": "code",
   "execution_count": 80,
   "metadata": {},
   "outputs": [],
   "source": [
    "import re\n",
    "train_set.rename(columns=lambda name: re.sub(r\"\\-\",'_',name), inplace=True)"
   ]
  },
  {
   "cell_type": "code",
   "execution_count": 81,
   "metadata": {},
   "outputs": [
    {
     "data": {
      "text/plain": [
       "Index(['age', 'workclass', 'fnlwgt', 'education', 'education_num',\n",
       "       'marital_status', 'occupation', 'relationship', 'race', 'sex',\n",
       "       'capital_gain', 'capital_loss', 'hours_per_week', 'native_country',\n",
       "       'wage_class'],\n",
       "      dtype='object')"
      ]
     },
     "execution_count": 81,
     "metadata": {},
     "output_type": "execute_result"
    }
   ],
   "source": [
    "train_set.columns"
   ]
  },
  {
   "cell_type": "code",
   "execution_count": 82,
   "metadata": {},
   "outputs": [
    {
     "data": {
      "text/plain": [
       "583"
      ]
     },
     "execution_count": 82,
     "metadata": {},
     "output_type": "execute_result"
    }
   ],
   "source": [
    "#filter1 = train_set[\"workclass\"]==\"?\"\n",
    "#index= train_set.where(filter1).index\n",
    "index = train_set[train_set[\"native_country\"]== ' ?'].index\n",
    "#index.value_counts()  # to display all the indexes having value '?'\n",
    "index.value_counts().sum()  # sum of those indexes \n",
    "# type(index"
   ]
  },
  {
   "cell_type": "code",
   "execution_count": 83,
   "metadata": {},
   "outputs": [
    {
     "name": "stdout",
     "output_type": "stream",
     "text": [
      "__________ workclass __________\n",
      "Total `?` in workclass: 1836\n",
      "Total % of `?` in workclass: 5.64\n",
      "__________ occupation __________\n",
      "Total `?` in occupation: 1843\n",
      "Total % of `?` in occupation: 5.66\n",
      "__________ native_country __________\n",
      "Total `?` in native_country: 583\n",
      "Total % of `?` in native_country: 1.79\n"
     ]
    }
   ],
   "source": [
    "#now apply the filter for the '?' value in those above 3 columns\n",
    "\n",
    "indexes_list = [] # will contain three index series of desired syntexes\n",
    "def filter_questionMark(l):\n",
    "    \n",
    "    for item in l:\n",
    "        print('_'*10,item, '_'*10)\n",
    "        index = train_set[train_set[item]== ' ?'].index\n",
    "        indexes_list.append(index)\n",
    "        #index.value_counts()  # to display all the indexes having value '?'\n",
    "        print(\"Total `?` in {0}: {1}\".format(item, index.value_counts().sum()))  # sum of those indexes \n",
    "        print(\"Total % of `?` in {0}: {1}\".format(item, round((index.value_counts().sum()/train_set.shape[0])*100,2)))\n",
    "        \n",
    "filter2= ['workclass','occupation', 'native_country']\n",
    "filter_questionMark(filter2)"
   ]
  },
  {
   "cell_type": "code",
   "execution_count": 56,
   "metadata": {},
   "outputs": [
    {
     "name": "stdout",
     "output_type": "stream",
     "text": [
      "Original Shape of Train Set: (32561, 15)\n",
      "Rows in Train Set: 32561\n"
     ]
    }
   ],
   "source": [
    "print(\"Original Shape of Train Set:\", train_set.shape)\n",
    "print(\"Rows in Train Set:\", train_set.shape[0])"
   ]
  },
  {
   "cell_type": "code",
   "execution_count": 89,
   "metadata": {},
   "outputs": [
    {
     "data": {
      "text/plain": [
       "[Int64Index([   27,    61,    69,    77,   106,   128,   149,   154,   160,\n",
       "               187,\n",
       "             ...\n",
       "             32426, 32477, 32490, 32494, 32525, 32530, 32531, 32539, 32541,\n",
       "             32542],\n",
       "            dtype='int64', length=1836),\n",
       " Int64Index([   27,    61,    69,    77,   106,   128,   149,   154,   160,\n",
       "               187,\n",
       "             ...\n",
       "             32426, 32477, 32490, 32494, 32525, 32530, 32531, 32539, 32541,\n",
       "             32542],\n",
       "            dtype='int64', length=1843),\n",
       " Int64Index([   14,    38,    51,    61,    93,   245,   249,   297,   393,\n",
       "               453,\n",
       "             ...\n",
       "             32213, 32232, 32254, 32307, 32413, 32449, 32469, 32492, 32510,\n",
       "             32525],\n",
       "            dtype='int64', length=583)]"
      ]
     },
     "execution_count": 89,
     "metadata": {},
     "output_type": "execute_result"
    }
   ],
   "source": [
    "indexes_list"
   ]
  },
  {
   "cell_type": "code",
   "execution_count": 84,
   "metadata": {},
   "outputs": [
    {
     "name": "stdout",
     "output_type": "stream",
     "text": [
      "\n",
      " Drowping `?` indexes from `workclass` featutre....\n",
      "Total New rows: 30725\n"
     ]
    }
   ],
   "source": [
    "print('\\n Drowping `?` indexes from `workclass` featutre....')\n",
    "train_set= train_set.drop(indexes_list[0])\n",
    "print(\"Total New rows:\",train_set.shape[0])"
   ]
  },
  {
   "cell_type": "code",
   "execution_count": 91,
   "metadata": {},
   "outputs": [
    {
     "name": "stdout",
     "output_type": "stream",
     "text": [
      "\n",
      " Drowping `?` indexes from `native_country` featutre....\n",
      "Total New rows: 30169\n"
     ]
    }
   ],
   "source": [
    "\n",
    "print('\\n Drowping `?` indexes from `native_country` featutre....')\n",
    "index1= train_set[train_set[\"native_country\"]== ' ?'].index\n",
    "train_set = train_set.drop(index1)\n",
    "print(\"Total New rows:\",train_set.shape[0])"
   ]
  },
  {
   "cell_type": "code",
   "execution_count": 93,
   "metadata": {},
   "outputs": [
    {
     "name": "stdout",
     "output_type": "stream",
     "text": [
      "\n",
      " Drowping `?` indexes from `occupation` featutre....\n",
      "Total New rows: 30162\n"
     ]
    }
   ],
   "source": [
    "print('\\n Drowping `?` indexes from `occupation` featutre....')\n",
    "index2 = train_set[train_set[\"occupation\"]== ' ?'].index\n",
    "train_set = train_set.drop(index2)\n",
    "print(\"Total New rows:\",train_set.shape[0])"
   ]
  },
  {
   "cell_type": "code",
   "execution_count": 94,
   "metadata": {},
   "outputs": [
    {
     "name": "stdout",
     "output_type": "stream",
     "text": [
      "__________ workclass __________\n",
      "Total `?` in workclass: 0\n",
      "Total % of `?` in workclass: 0.0\n",
      "__________ occupation __________\n",
      "Total `?` in occupation: 0\n",
      "Total % of `?` in occupation: 0.0\n",
      "__________ native_country __________\n",
      "Total `?` in native_country: 0\n",
      "Total % of `?` in native_country: 0.0\n"
     ]
    }
   ],
   "source": [
    "# check for '?' again\n",
    "filter_questionMark(filter2)"
   ]
  },
  {
   "cell_type": "code",
   "execution_count": 95,
   "metadata": {},
   "outputs": [],
   "source": [
    "#Applying one hot coding to all the categorical variables\n",
    "df1 = train_set.copy()\n",
    "\n",
    "objectFeature = []\n",
    "for i in list(df1.columns):\n",
    "    if (df1[i].dtypes == 'object'):\n",
    "        objectFeature.append(i)\n",
    "        \n",
    "\n",
    "df1=pd.get_dummies(df1[objectFeature[:-1]])"
   ]
  },
  {
   "cell_type": "code",
   "execution_count": 97,
   "metadata": {},
   "outputs": [],
   "source": [
    "intFeature = []\n",
    "for i in list(train_set.columns):\n",
    "    if (train_set[i].dtypes == 'int64'):\n",
    "        intFeature.append(i)\n",
    "\n",
    "df2 = train_set[intFeature]"
   ]
  },
  {
   "cell_type": "code",
   "execution_count": 98,
   "metadata": {},
   "outputs": [
    {
     "name": "stdout",
     "output_type": "stream",
     "text": [
      "(30162, 98)\n",
      "(30162, 6)\n"
     ]
    }
   ],
   "source": [
    "\n",
    "print(df1.shape)\n",
    "print(df2.shape)"
   ]
  },
  {
   "cell_type": "code",
   "execution_count": 99,
   "metadata": {},
   "outputs": [
    {
     "data": {
      "text/plain": [
       "(30162, 104)"
      ]
     },
     "execution_count": 99,
     "metadata": {},
     "output_type": "execute_result"
    }
   ],
   "source": [
    "X_train = pd.concat([df1, df2], axis=1)\n",
    "X_train.shape   # final dataframe to be get Trained"
   ]
  },
  {
   "cell_type": "code",
   "execution_count": 100,
   "metadata": {},
   "outputs": [],
   "source": [
    "\n",
    "y=train_set[objectFeature[-1]]"
   ]
  },
  {
   "cell_type": "code",
   "execution_count": 104,
   "metadata": {},
   "outputs": [],
   "source": [
    "from sklearn import preprocessing\n",
    "le = preprocessing.LabelEncoder()\n",
    "# le.fit(y)\n",
    "# le.classes_   # will display only two classes---> array([' <=50K', ' >50K'], dtype=object)y_train\n",
    "y_train=le.fit_transform(y)"
   ]
  },
  {
   "cell_type": "code",
   "execution_count": 105,
   "metadata": {},
   "outputs": [
    {
     "data": {
      "text/plain": [
       "array([0, 0, 0, ..., 0, 0, 1])"
      ]
     },
     "execution_count": 105,
     "metadata": {},
     "output_type": "execute_result"
    }
   ],
   "source": [
    "y_train"
   ]
  },
  {
   "cell_type": "code",
   "execution_count": 119,
   "metadata": {},
   "outputs": [],
   "source": [
    "from xgboost.sklearn import XGBClassifier\n",
    "from sklearn.model_selection import train_test_split\n",
    "from sklearn.metrics import accuracy_score"
   ]
  },
  {
   "cell_type": "code",
   "execution_count": 122,
   "metadata": {},
   "outputs": [],
   "source": [
    "#model01\n",
    "params = {\n",
    "    'objective': 'binary:logistic',\n",
    "    'max_depth': 2,\n",
    "    'learning_rate': .5,\n",
    "    'silent': True,    # would be boolean in sklearn\n",
    "    'n_estimators': 100\n",
    "}"
   ]
  },
  {
   "cell_type": "code",
   "execution_count": 107,
   "metadata": {},
   "outputs": [],
   "source": [
    "x_train, x_test, y_t1, y_t2 =train_test_split(X_train, y_train, test_size=.25)"
   ]
  },
  {
   "cell_type": "code",
   "execution_count": 109,
   "metadata": {},
   "outputs": [
    {
     "data": {
      "text/plain": [
       "((22621, 104), (7541, 104), (22621,), (7541,))"
      ]
     },
     "execution_count": 109,
     "metadata": {},
     "output_type": "execute_result"
    }
   ],
   "source": [
    "\n",
    "x_train.shape, x_test.shape, y_t1.shape, y_t2.shape"
   ]
  },
  {
   "cell_type": "code",
   "execution_count": 123,
   "metadata": {},
   "outputs": [
    {
     "name": "stderr",
     "output_type": "stream",
     "text": [
      "C:\\Users\\Satvik\\Anaconda3\\lib\\site-packages\\xgboost\\sklearn.py:888: UserWarning: The use of label encoder in XGBClassifier is deprecated and will be removed in a future release. To remove this warning, do the following: 1) Pass option use_label_encoder=False when constructing XGBClassifier object; and 2) Encode your labels (y) as integers starting with 0, i.e. 0, 1, 2, ..., [num_class - 1].\n",
      "  warnings.warn(label_encoder_deprecation_msg, UserWarning)\n"
     ]
    },
    {
     "name": "stdout",
     "output_type": "stream",
     "text": [
      "[20:52:07] WARNING: C:/Users/Administrator/workspace/xgboost-win64_release_1.3.0/src/learner.cc:541: \n",
      "Parameters: { silent } might not be used.\n",
      "\n",
      "  This may not be accurate due to some parameters are only used in language bindings but\n",
      "  passed down to XGBoost core.  Or some parameters are not used but slip through this\n",
      "  verification. Please open an issue if you find above cases.\n",
      "\n",
      "\n",
      "[20:52:07] WARNING: C:/Users/Administrator/workspace/xgboost-win64_release_1.3.0/src/learner.cc:1061: Starting in XGBoost 1.3.0, the default evaluation metric used with the objective 'binary:logistic' was changed from 'error' to 'logloss'. Explicitly set eval_metric if you'd like to restore the old behavior.\n"
     ]
    }
   ],
   "source": [
    "#Model1\n",
    "xgb = XGBClassifier(**params).fit(x_train,y_t1)"
   ]
  },
  {
   "cell_type": "code",
   "execution_count": 124,
   "metadata": {},
   "outputs": [
    {
     "data": {
      "text/plain": [
       "0.8683198514785837"
      ]
     },
     "execution_count": 124,
     "metadata": {},
     "output_type": "execute_result"
    }
   ],
   "source": [
    "y_pred= xgb.predict(x_test)\n",
    "accuracy_score(y_t2, y_pred)"
   ]
  },
  {
   "cell_type": "code",
   "execution_count": 125,
   "metadata": {},
   "outputs": [
    {
     "name": "stderr",
     "output_type": "stream",
     "text": [
      "C:\\Users\\Satvik\\Anaconda3\\lib\\site-packages\\xgboost\\sklearn.py:888: UserWarning: The use of label encoder in XGBClassifier is deprecated and will be removed in a future release. To remove this warning, do the following: 1) Pass option use_label_encoder=False when constructing XGBClassifier object; and 2) Encode your labels (y) as integers starting with 0, i.e. 0, 1, 2, ..., [num_class - 1].\n",
      "  warnings.warn(label_encoder_deprecation_msg, UserWarning)\n"
     ]
    },
    {
     "name": "stdout",
     "output_type": "stream",
     "text": [
      "[20:52:23] WARNING: C:/Users/Administrator/workspace/xgboost-win64_release_1.3.0/src/learner.cc:541: \n",
      "Parameters: { silent } might not be used.\n",
      "\n",
      "  This may not be accurate due to some parameters are only used in language bindings but\n",
      "  passed down to XGBoost core.  Or some parameters are not used but slip through this\n",
      "  verification. Please open an issue if you find above cases.\n",
      "\n",
      "\n",
      "[0]\tvalidation_0-error:0.17722\tvalidation_0-logloss:0.50744\tvalidation_1-error:0.17146\tvalidation_1-logloss:0.50518\n",
      "[1]\tvalidation_0-error:0.16118\tvalidation_0-logloss:0.43601\tvalidation_1-error:0.15542\tvalidation_1-logloss:0.43364\n",
      "[2]\tvalidation_0-error:0.16122\tvalidation_0-logloss:0.40207\tvalidation_1-error:0.15900\tvalidation_1-logloss:0.40000\n",
      "[3]\tvalidation_0-error:0.15441\tvalidation_0-logloss:0.37807\tvalidation_1-error:0.15475\tvalidation_1-logloss:0.37758\n",
      "[4]\tvalidation_0-error:0.15273\tvalidation_0-logloss:0.36328\tvalidation_1-error:0.15144\tvalidation_1-logloss:0.36309\n",
      "[5]\tvalidation_0-error:0.15260\tvalidation_0-logloss:0.35354\tvalidation_1-error:0.15170\tvalidation_1-logloss:0.35296\n",
      "[6]\tvalidation_0-error:0.15158\tvalidation_0-logloss:0.34618\tvalidation_1-error:0.15184\tvalidation_1-logloss:0.34705\n",
      "[7]\tvalidation_0-error:0.15074\tvalidation_0-logloss:0.33893\tvalidation_1-error:0.15131\tvalidation_1-logloss:0.34039\n",
      "[8]\tvalidation_0-error:0.14937\tvalidation_0-logloss:0.33329\tvalidation_1-error:0.14905\tvalidation_1-logloss:0.33474\n",
      "[9]\tvalidation_0-error:0.14858\tvalidation_0-logloss:0.32954\tvalidation_1-error:0.14812\tvalidation_1-logloss:0.33035\n",
      "[10]\tvalidation_0-error:0.14849\tvalidation_0-logloss:0.32588\tvalidation_1-error:0.14865\tvalidation_1-logloss:0.32659\n",
      "[11]\tvalidation_0-error:0.14836\tvalidation_0-logloss:0.32348\tvalidation_1-error:0.14839\tvalidation_1-logloss:0.32393\n",
      "[12]\tvalidation_0-error:0.14836\tvalidation_0-logloss:0.32150\tvalidation_1-error:0.14826\tvalidation_1-logloss:0.32189\n",
      "[13]\tvalidation_0-error:0.14792\tvalidation_0-logloss:0.31975\tvalidation_1-error:0.14826\tvalidation_1-logloss:0.32040\n",
      "[14]\tvalidation_0-error:0.14743\tvalidation_0-logloss:0.31787\tvalidation_1-error:0.14746\tvalidation_1-logloss:0.31898\n",
      "[15]\tvalidation_0-error:0.14632\tvalidation_0-logloss:0.31636\tvalidation_1-error:0.14759\tvalidation_1-logloss:0.31748\n",
      "[16]\tvalidation_0-error:0.14677\tvalidation_0-logloss:0.31523\tvalidation_1-error:0.14759\tvalidation_1-logloss:0.31701\n",
      "[17]\tvalidation_0-error:0.14544\tvalidation_0-logloss:0.31427\tvalidation_1-error:0.14746\tvalidation_1-logloss:0.31609\n",
      "[18]\tvalidation_0-error:0.14456\tvalidation_0-logloss:0.31246\tvalidation_1-error:0.14627\tvalidation_1-logloss:0.31449\n",
      "[19]\tvalidation_0-error:0.14389\tvalidation_0-logloss:0.31141\tvalidation_1-error:0.14719\tvalidation_1-logloss:0.31334\n",
      "[20]\tvalidation_0-error:0.14416\tvalidation_0-logloss:0.31054\tvalidation_1-error:0.14759\tvalidation_1-logloss:0.31249\n",
      "[21]\tvalidation_0-error:0.14301\tvalidation_0-logloss:0.30932\tvalidation_1-error:0.14693\tvalidation_1-logloss:0.31161\n",
      "[22]\tvalidation_0-error:0.14283\tvalidation_0-logloss:0.30856\tvalidation_1-error:0.14587\tvalidation_1-logloss:0.31082\n",
      "[23]\tvalidation_0-error:0.14226\tvalidation_0-logloss:0.30777\tvalidation_1-error:0.14600\tvalidation_1-logloss:0.31022\n",
      "[24]\tvalidation_0-error:0.14190\tvalidation_0-logloss:0.30708\tvalidation_1-error:0.14613\tvalidation_1-logloss:0.30974\n",
      "[25]\tvalidation_0-error:0.14173\tvalidation_0-logloss:0.30627\tvalidation_1-error:0.14587\tvalidation_1-logloss:0.30854\n",
      "[26]\tvalidation_0-error:0.14093\tvalidation_0-logloss:0.30438\tvalidation_1-error:0.14468\tvalidation_1-logloss:0.30701\n",
      "[27]\tvalidation_0-error:0.13978\tvalidation_0-logloss:0.30299\tvalidation_1-error:0.14308\tvalidation_1-logloss:0.30504\n",
      "[28]\tvalidation_0-error:0.13837\tvalidation_0-logloss:0.30224\tvalidation_1-error:0.14229\tvalidation_1-logloss:0.30396\n",
      "[29]\tvalidation_0-error:0.13845\tvalidation_0-logloss:0.30162\tvalidation_1-error:0.14043\tvalidation_1-logloss:0.30318\n",
      "[30]\tvalidation_0-error:0.13717\tvalidation_0-logloss:0.29959\tvalidation_1-error:0.13924\tvalidation_1-logloss:0.30143\n",
      "[31]\tvalidation_0-error:0.13678\tvalidation_0-logloss:0.29920\tvalidation_1-error:0.13964\tvalidation_1-logloss:0.30110\n",
      "[32]\tvalidation_0-error:0.13691\tvalidation_0-logloss:0.29869\tvalidation_1-error:0.13924\tvalidation_1-logloss:0.30101\n",
      "[33]\tvalidation_0-error:0.13638\tvalidation_0-logloss:0.29775\tvalidation_1-error:0.13897\tvalidation_1-logloss:0.30056\n",
      "[34]\tvalidation_0-error:0.13616\tvalidation_0-logloss:0.29646\tvalidation_1-error:0.13858\tvalidation_1-logloss:0.29946\n",
      "[35]\tvalidation_0-error:0.13496\tvalidation_0-logloss:0.29606\tvalidation_1-error:0.13844\tvalidation_1-logloss:0.29935\n",
      "[36]\tvalidation_0-error:0.13554\tvalidation_0-logloss:0.29575\tvalidation_1-error:0.13924\tvalidation_1-logloss:0.29892\n",
      "[37]\tvalidation_0-error:0.13496\tvalidation_0-logloss:0.29532\tvalidation_1-error:0.13871\tvalidation_1-logloss:0.29871\n",
      "[38]\tvalidation_0-error:0.13461\tvalidation_0-logloss:0.29463\tvalidation_1-error:0.13871\tvalidation_1-logloss:0.29782\n",
      "[39]\tvalidation_0-error:0.13456\tvalidation_0-logloss:0.29432\tvalidation_1-error:0.13725\tvalidation_1-logloss:0.29745\n",
      "[40]\tvalidation_0-error:0.13439\tvalidation_0-logloss:0.29406\tvalidation_1-error:0.13765\tvalidation_1-logloss:0.29736\n",
      "[41]\tvalidation_0-error:0.13421\tvalidation_0-logloss:0.29374\tvalidation_1-error:0.13765\tvalidation_1-logloss:0.29719\n",
      "[42]\tvalidation_0-error:0.13266\tvalidation_0-logloss:0.29185\tvalidation_1-error:0.13698\tvalidation_1-logloss:0.29542\n",
      "[43]\tvalidation_0-error:0.13240\tvalidation_0-logloss:0.29127\tvalidation_1-error:0.13685\tvalidation_1-logloss:0.29491\n",
      "[44]\tvalidation_0-error:0.13253\tvalidation_0-logloss:0.29055\tvalidation_1-error:0.13672\tvalidation_1-logloss:0.29409\n",
      "[45]\tvalidation_0-error:0.13227\tvalidation_0-logloss:0.28980\tvalidation_1-error:0.13632\tvalidation_1-logloss:0.29350\n",
      "[46]\tvalidation_0-error:0.13174\tvalidation_0-logloss:0.28952\tvalidation_1-error:0.13685\tvalidation_1-logloss:0.29344\n",
      "[47]\tvalidation_0-error:0.13169\tvalidation_0-logloss:0.28935\tvalidation_1-error:0.13672\tvalidation_1-logloss:0.29339\n",
      "[48]\tvalidation_0-error:0.13169\tvalidation_0-logloss:0.28903\tvalidation_1-error:0.13685\tvalidation_1-logloss:0.29344\n",
      "[49]\tvalidation_0-error:0.13191\tvalidation_0-logloss:0.28890\tvalidation_1-error:0.13685\tvalidation_1-logloss:0.29333\n",
      "[50]\tvalidation_0-error:0.13191\tvalidation_0-logloss:0.28870\tvalidation_1-error:0.13685\tvalidation_1-logloss:0.29316\n",
      "[51]\tvalidation_0-error:0.13174\tvalidation_0-logloss:0.28845\tvalidation_1-error:0.13659\tvalidation_1-logloss:0.29302\n",
      "[52]\tvalidation_0-error:0.13191\tvalidation_0-logloss:0.28804\tvalidation_1-error:0.13592\tvalidation_1-logloss:0.29251\n",
      "[53]\tvalidation_0-error:0.13182\tvalidation_0-logloss:0.28763\tvalidation_1-error:0.13579\tvalidation_1-logloss:0.29202\n",
      "[54]\tvalidation_0-error:0.13187\tvalidation_0-logloss:0.28742\tvalidation_1-error:0.13579\tvalidation_1-logloss:0.29160\n",
      "[55]\tvalidation_0-error:0.13187\tvalidation_0-logloss:0.28685\tvalidation_1-error:0.13606\tvalidation_1-logloss:0.29141\n",
      "[56]\tvalidation_0-error:0.13160\tvalidation_0-logloss:0.28621\tvalidation_1-error:0.13539\tvalidation_1-logloss:0.29084\n",
      "[57]\tvalidation_0-error:0.13147\tvalidation_0-logloss:0.28578\tvalidation_1-error:0.13539\tvalidation_1-logloss:0.29021\n",
      "[58]\tvalidation_0-error:0.13098\tvalidation_0-logloss:0.28504\tvalidation_1-error:0.13486\tvalidation_1-logloss:0.28918\n",
      "[59]\tvalidation_0-error:0.13090\tvalidation_0-logloss:0.28484\tvalidation_1-error:0.13500\tvalidation_1-logloss:0.28894\n",
      "[60]\tvalidation_0-error:0.13094\tvalidation_0-logloss:0.28471\tvalidation_1-error:0.13460\tvalidation_1-logloss:0.28871\n",
      "[61]\tvalidation_0-error:0.13090\tvalidation_0-logloss:0.28452\tvalidation_1-error:0.13460\tvalidation_1-logloss:0.28852\n",
      "[62]\tvalidation_0-error:0.13094\tvalidation_0-logloss:0.28439\tvalidation_1-error:0.13433\tvalidation_1-logloss:0.28845\n",
      "[63]\tvalidation_0-error:0.13085\tvalidation_0-logloss:0.28423\tvalidation_1-error:0.13420\tvalidation_1-logloss:0.28832\n",
      "[64]\tvalidation_0-error:0.13032\tvalidation_0-logloss:0.28393\tvalidation_1-error:0.13447\tvalidation_1-logloss:0.28831\n",
      "[65]\tvalidation_0-error:0.13037\tvalidation_0-logloss:0.28374\tvalidation_1-error:0.13420\tvalidation_1-logloss:0.28824\n",
      "[66]\tvalidation_0-error:0.12961\tvalidation_0-logloss:0.28361\tvalidation_1-error:0.13393\tvalidation_1-logloss:0.28809\n"
     ]
    },
    {
     "name": "stdout",
     "output_type": "stream",
     "text": [
      "[67]\tvalidation_0-error:0.12913\tvalidation_0-logloss:0.28339\tvalidation_1-error:0.13473\tvalidation_1-logloss:0.28794\n",
      "[68]\tvalidation_0-error:0.12873\tvalidation_0-logloss:0.28318\tvalidation_1-error:0.13447\tvalidation_1-logloss:0.28788\n",
      "[69]\tvalidation_0-error:0.12860\tvalidation_0-logloss:0.28290\tvalidation_1-error:0.13420\tvalidation_1-logloss:0.28749\n",
      "[70]\tvalidation_0-error:0.12860\tvalidation_0-logloss:0.28282\tvalidation_1-error:0.13420\tvalidation_1-logloss:0.28745\n",
      "[71]\tvalidation_0-error:0.12869\tvalidation_0-logloss:0.28274\tvalidation_1-error:0.13420\tvalidation_1-logloss:0.28748\n",
      "[72]\tvalidation_0-error:0.12869\tvalidation_0-logloss:0.28240\tvalidation_1-error:0.13420\tvalidation_1-logloss:0.28718\n",
      "[73]\tvalidation_0-error:0.12855\tvalidation_0-logloss:0.28222\tvalidation_1-error:0.13433\tvalidation_1-logloss:0.28710\n",
      "[74]\tvalidation_0-error:0.12846\tvalidation_0-logloss:0.28203\tvalidation_1-error:0.13447\tvalidation_1-logloss:0.28729\n",
      "[75]\tvalidation_0-error:0.12886\tvalidation_0-logloss:0.28187\tvalidation_1-error:0.13420\tvalidation_1-logloss:0.28726\n",
      "[76]\tvalidation_0-error:0.12851\tvalidation_0-logloss:0.28162\tvalidation_1-error:0.13433\tvalidation_1-logloss:0.28727\n",
      "[77]\tvalidation_0-error:0.12824\tvalidation_0-logloss:0.28147\tvalidation_1-error:0.13433\tvalidation_1-logloss:0.28717\n",
      "[78]\tvalidation_0-error:0.12815\tvalidation_0-logloss:0.28128\tvalidation_1-error:0.13460\tvalidation_1-logloss:0.28726\n",
      "[79]\tvalidation_0-error:0.12780\tvalidation_0-logloss:0.28116\tvalidation_1-error:0.13354\tvalidation_1-logloss:0.28731\n",
      "[80]\tvalidation_0-error:0.12780\tvalidation_0-logloss:0.28089\tvalidation_1-error:0.13327\tvalidation_1-logloss:0.28751\n",
      "[81]\tvalidation_0-error:0.12824\tvalidation_0-logloss:0.28072\tvalidation_1-error:0.13287\tvalidation_1-logloss:0.28754\n",
      "[82]\tvalidation_0-error:0.12771\tvalidation_0-logloss:0.28055\tvalidation_1-error:0.13208\tvalidation_1-logloss:0.28749\n",
      "[83]\tvalidation_0-error:0.12762\tvalidation_0-logloss:0.28024\tvalidation_1-error:0.13287\tvalidation_1-logloss:0.28722\n",
      "[84]\tvalidation_0-error:0.12727\tvalidation_0-logloss:0.27980\tvalidation_1-error:0.13287\tvalidation_1-logloss:0.28692\n",
      "[85]\tvalidation_0-error:0.12727\tvalidation_0-logloss:0.27916\tvalidation_1-error:0.13248\tvalidation_1-logloss:0.28626\n",
      "[86]\tvalidation_0-error:0.12736\tvalidation_0-logloss:0.27902\tvalidation_1-error:0.13234\tvalidation_1-logloss:0.28624\n",
      "[87]\tvalidation_0-error:0.12709\tvalidation_0-logloss:0.27876\tvalidation_1-error:0.13234\tvalidation_1-logloss:0.28607\n",
      "[88]\tvalidation_0-error:0.12723\tvalidation_0-logloss:0.27850\tvalidation_1-error:0.13234\tvalidation_1-logloss:0.28558\n",
      "[89]\tvalidation_0-error:0.12714\tvalidation_0-logloss:0.27826\tvalidation_1-error:0.13221\tvalidation_1-logloss:0.28529\n",
      "[90]\tvalidation_0-error:0.12718\tvalidation_0-logloss:0.27794\tvalidation_1-error:0.13195\tvalidation_1-logloss:0.28497\n",
      "[91]\tvalidation_0-error:0.12701\tvalidation_0-logloss:0.27790\tvalidation_1-error:0.13195\tvalidation_1-logloss:0.28503\n",
      "[92]\tvalidation_0-error:0.12705\tvalidation_0-logloss:0.27763\tvalidation_1-error:0.13181\tvalidation_1-logloss:0.28453\n",
      "[93]\tvalidation_0-error:0.12705\tvalidation_0-logloss:0.27748\tvalidation_1-error:0.13168\tvalidation_1-logloss:0.28445\n",
      "[94]\tvalidation_0-error:0.12687\tvalidation_0-logloss:0.27743\tvalidation_1-error:0.13168\tvalidation_1-logloss:0.28441\n",
      "[95]\tvalidation_0-error:0.12679\tvalidation_0-logloss:0.27726\tvalidation_1-error:0.13088\tvalidation_1-logloss:0.28441\n",
      "[96]\tvalidation_0-error:0.12674\tvalidation_0-logloss:0.27718\tvalidation_1-error:0.13102\tvalidation_1-logloss:0.28441\n",
      "[97]\tvalidation_0-error:0.12661\tvalidation_0-logloss:0.27710\tvalidation_1-error:0.13115\tvalidation_1-logloss:0.28439\n",
      "[98]\tvalidation_0-error:0.12634\tvalidation_0-logloss:0.27680\tvalidation_1-error:0.13102\tvalidation_1-logloss:0.28429\n",
      "[99]\tvalidation_0-error:0.12621\tvalidation_0-logloss:0.27654\tvalidation_1-error:0.13168\tvalidation_1-logloss:0.28405\n"
     ]
    }
   ],
   "source": [
    "#Model02\n",
    "\n",
    "eval_set = [(x_train,y_t1), (x_test, y_t2)]\n",
    "xgb1 = XGBClassifier(**params).fit(x_train,y_t1,\n",
    "                                   early_stopping_rounds=15, \n",
    "                                   eval_metric=[\"error\", \"logloss\"], \n",
    "                                   eval_set=eval_set,\n",
    "                                   verbose=True)"
   ]
  },
  {
   "cell_type": "code",
   "execution_count": 126,
   "metadata": {},
   "outputs": [
    {
     "data": {
      "image/png": "[encoded data removed]",
      "text/plain": [
       "<Figure size 432x288 with 1 Axes>"
      ]
     },
     "metadata": {
      "needs_background": "light"
     },
     "output_type": "display_data"
    },
    {
     "data": {
      "image/png": "[encoded data removed]",
      "text/plain": [
       "<Figure size 432x288 with 1 Axes>"
      ]
     },
     "metadata": {
      "needs_background": "light"
     },
     "output_type": "display_data"
    }
   ],
   "source": [
    "#Ploting Classifying errors and log loss with respect to each iteration¶\n",
    "# retrieve performance metrics\n",
    "results = xgb1.evals_result()\n",
    "epochs = len(results['validation_0']['error'])\n",
    "x = range(0, epochs)\n",
    "# plot log loss\n",
    "fig, ax = plt.subplots()\n",
    "ax.plot(x, results['validation_0']['logloss'], label='Train')\n",
    "ax.plot(x, results['validation_1']['logloss'], label='Test')\n",
    "ax.legend()\n",
    "plt.ylabel('Log Loss')\n",
    "plt.xlabel('Epochs')\n",
    "plt.title('XGBoost Log Loss')\n",
    "plt.show()\n",
    "# plot classification error\n",
    "fig, ax = plt.subplots()\n",
    "ax.plot(x, results['validation_0']['error'], label='Train')\n",
    "ax.plot(x, results['validation_1']['error'], label='Test')\n",
    "ax.legend()\n",
    "plt.ylabel('Classification Error')\n",
    "plt.xlabel('Epochs')\n",
    "plt.title('XGBoost Classification Error')\n",
    "plt.show()"
   ]
  },
  {
   "cell_type": "code",
   "execution_count": 129,
   "metadata": {},
   "outputs": [],
   "source": [
    "#model03\n",
    "params = {\n",
    "    'objective': 'binary:logistic',\n",
    "    'max_depth': 20,\n",
    "    'learning_rate': .01,\n",
    "    'silent': True,    # would be boolean in sklearn\n",
    "    'n_estimators': 200}\n",
    "\n"
   ]
  },
  {
   "cell_type": "code",
   "execution_count": 130,
   "metadata": {},
   "outputs": [
    {
     "name": "stdout",
     "output_type": "stream",
     "text": [
      "[20:55:43] WARNING: C:/Users/Administrator/workspace/xgboost-win64_release_1.3.0/src/learner.cc:541: \n",
      "Parameters: { silent } might not be used.\n",
      "\n",
      "  This may not be accurate due to some parameters are only used in language bindings but\n",
      "  passed down to XGBoost core.  Or some parameters are not used but slip through this\n",
      "  verification. Please open an issue if you find above cases.\n",
      "\n",
      "\n",
      "[0]\tvalidation_0-error:0.09394\tvalidation_0-logloss:0.68632\tvalidation_1-error:0.16576\tvalidation_1-logloss:0.68710\n",
      "[1]\tvalidation_0-error:0.09230\tvalidation_0-logloss:0.67966\tvalidation_1-error:0.16311\tvalidation_1-logloss:0.68115\n",
      "[2]\tvalidation_0-error:0.09222\tvalidation_0-logloss:0.67314\tvalidation_1-error:0.15993\tvalidation_1-logloss:0.67533\n",
      "[3]\tvalidation_0-error:0.09292\tvalidation_0-logloss:0.66673\tvalidation_1-error:0.15993\tvalidation_1-logloss:0.66964\n",
      "[4]\tvalidation_0-error:0.09328\tvalidation_0-logloss:0.66045\tvalidation_1-error:0.15926\tvalidation_1-logloss:0.66405\n",
      "[5]\tvalidation_0-error:0.09319\tvalidation_0-logloss:0.65427\tvalidation_1-error:0.15780\tvalidation_1-logloss:0.65859\n",
      "[6]\tvalidation_0-error:0.09310\tvalidation_0-logloss:0.64820\tvalidation_1-error:0.15820\tvalidation_1-logloss:0.65322\n",
      "[7]\tvalidation_0-error:0.09323\tvalidation_0-logloss:0.64227\tvalidation_1-error:0.15873\tvalidation_1-logloss:0.64795\n",
      "[8]\tvalidation_0-error:0.09177\tvalidation_0-logloss:0.63639\tvalidation_1-error:0.15820\tvalidation_1-logloss:0.64279\n",
      "[9]\tvalidation_0-error:0.09124\tvalidation_0-logloss:0.63061\tvalidation_1-error:0.15860\tvalidation_1-logloss:0.63771\n",
      "[10]\tvalidation_0-error:0.09045\tvalidation_0-logloss:0.62496\tvalidation_1-error:0.15860\tvalidation_1-logloss:0.63275\n",
      "[11]\tvalidation_0-error:0.08992\tvalidation_0-logloss:0.61939\tvalidation_1-error:0.15688\tvalidation_1-logloss:0.62787\n",
      "[12]\tvalidation_0-error:0.08965\tvalidation_0-logloss:0.61394\tvalidation_1-error:0.15727\tvalidation_1-logloss:0.62308\n",
      "[13]\tvalidation_0-error:0.08877\tvalidation_0-logloss:0.60856\tvalidation_1-error:0.15635\tvalidation_1-logloss:0.61838\n",
      "[14]\tvalidation_0-error:0.08850\tvalidation_0-logloss:0.60329\tvalidation_1-error:0.15582\tvalidation_1-logloss:0.61375\n",
      "[15]\tvalidation_0-error:0.08846\tvalidation_0-logloss:0.59812\tvalidation_1-error:0.15542\tvalidation_1-logloss:0.60922\n",
      "[16]\tvalidation_0-error:0.08872\tvalidation_0-logloss:0.59301\tvalidation_1-error:0.15489\tvalidation_1-logloss:0.60476\n",
      "[17]\tvalidation_0-error:0.08837\tvalidation_0-logloss:0.58797\tvalidation_1-error:0.15515\tvalidation_1-logloss:0.60040\n",
      "[18]\tvalidation_0-error:0.08841\tvalidation_0-logloss:0.58305\tvalidation_1-error:0.15396\tvalidation_1-logloss:0.59610\n",
      "[19]\tvalidation_0-error:0.08810\tvalidation_0-logloss:0.57820\tvalidation_1-error:0.15515\tvalidation_1-logloss:0.59189\n",
      "[20]\tvalidation_0-error:0.08837\tvalidation_0-logloss:0.57340\tvalidation_1-error:0.15568\tvalidation_1-logloss:0.58777\n",
      "[21]\tvalidation_0-error:0.08784\tvalidation_0-logloss:0.56867\tvalidation_1-error:0.15515\tvalidation_1-logloss:0.58369\n",
      "[22]\tvalidation_0-error:0.08762\tvalidation_0-logloss:0.56405\tvalidation_1-error:0.15555\tvalidation_1-logloss:0.57972\n",
      "[23]\tvalidation_0-error:0.08731\tvalidation_0-logloss:0.55949\tvalidation_1-error:0.15568\tvalidation_1-logloss:0.57577\n",
      "[24]\tvalidation_0-error:0.08731\tvalidation_0-logloss:0.55500\tvalidation_1-error:0.15528\tvalidation_1-logloss:0.57189\n",
      "[25]\tvalidation_0-error:0.08700\tvalidation_0-logloss:0.55058\tvalidation_1-error:0.15422\tvalidation_1-logloss:0.56810\n",
      "[26]\tvalidation_0-error:0.08660\tvalidation_0-logloss:0.54624\tvalidation_1-error:0.15343\tvalidation_1-logloss:0.56435\n",
      "[27]\tvalidation_0-error:0.08634\tvalidation_0-logloss:0.54195\tvalidation_1-error:0.15303\tvalidation_1-logloss:0.56069\n",
      "[28]\tvalidation_0-error:0.08607\tvalidation_0-logloss:0.53774\tvalidation_1-error:0.15277\tvalidation_1-logloss:0.55708\n",
      "[29]\tvalidation_0-error:0.08629\tvalidation_0-logloss:0.53363\tvalidation_1-error:0.15237\tvalidation_1-logloss:0.55354\n",
      "[30]\tvalidation_0-error:0.08629\tvalidation_0-logloss:0.52954\tvalidation_1-error:0.15290\tvalidation_1-logloss:0.55005\n",
      "[31]\tvalidation_0-error:0.08607\tvalidation_0-logloss:0.52548\tvalidation_1-error:0.15237\tvalidation_1-logloss:0.54664\n",
      "[32]\tvalidation_0-error:0.08572\tvalidation_0-logloss:0.52151\tvalidation_1-error:0.15184\tvalidation_1-logloss:0.54326\n",
      "[33]\tvalidation_0-error:0.08550\tvalidation_0-logloss:0.51759\tvalidation_1-error:0.15104\tvalidation_1-logloss:0.53995\n",
      "[34]\tvalidation_0-error:0.08554\tvalidation_0-logloss:0.51373\tvalidation_1-error:0.15117\tvalidation_1-logloss:0.53669\n",
      "[35]\tvalidation_0-error:0.08483\tvalidation_0-logloss:0.50994\tvalidation_1-error:0.15091\tvalidation_1-logloss:0.53348\n",
      "[36]\tvalidation_0-error:0.08501\tvalidation_0-logloss:0.50621\tvalidation_1-error:0.15064\tvalidation_1-logloss:0.53034\n",
      "[37]\tvalidation_0-error:0.08452\tvalidation_0-logloss:0.50253\tvalidation_1-error:0.15091\tvalidation_1-logloss:0.52723\n",
      "[38]\tvalidation_0-error:0.08435\tvalidation_0-logloss:0.49886\tvalidation_1-error:0.15104\tvalidation_1-logloss:0.52418\n",
      "[39]\tvalidation_0-error:0.08421\tvalidation_0-logloss:0.49528\tvalidation_1-error:0.15078\tvalidation_1-logloss:0.52117\n",
      "[40]\tvalidation_0-error:0.08382\tvalidation_0-logloss:0.49169\tvalidation_1-error:0.15038\tvalidation_1-logloss:0.51818\n",
      "[41]\tvalidation_0-error:0.08377\tvalidation_0-logloss:0.48819\tvalidation_1-error:0.15038\tvalidation_1-logloss:0.51525\n",
      "[42]\tvalidation_0-error:0.08351\tvalidation_0-logloss:0.48474\tvalidation_1-error:0.15038\tvalidation_1-logloss:0.51237\n",
      "[43]\tvalidation_0-error:0.08328\tvalidation_0-logloss:0.48135\tvalidation_1-error:0.15051\tvalidation_1-logloss:0.50951\n",
      "[44]\tvalidation_0-error:0.08253\tvalidation_0-logloss:0.47800\tvalidation_1-error:0.14985\tvalidation_1-logloss:0.50669\n",
      "[45]\tvalidation_0-error:0.08205\tvalidation_0-logloss:0.47472\tvalidation_1-error:0.15038\tvalidation_1-logloss:0.50393\n",
      "[46]\tvalidation_0-error:0.08165\tvalidation_0-logloss:0.47145\tvalidation_1-error:0.15038\tvalidation_1-logloss:0.50123\n",
      "[47]\tvalidation_0-error:0.08174\tvalidation_0-logloss:0.46823\tvalidation_1-error:0.15051\tvalidation_1-logloss:0.49855\n",
      "[48]\tvalidation_0-error:0.08134\tvalidation_0-logloss:0.46506\tvalidation_1-error:0.15038\tvalidation_1-logloss:0.49591\n",
      "[49]\tvalidation_0-error:0.08112\tvalidation_0-logloss:0.46191\tvalidation_1-error:0.15024\tvalidation_1-logloss:0.49331\n",
      "[50]\tvalidation_0-error:0.08112\tvalidation_0-logloss:0.45880\tvalidation_1-error:0.15051\tvalidation_1-logloss:0.49074\n",
      "[51]\tvalidation_0-error:0.08116\tvalidation_0-logloss:0.45575\tvalidation_1-error:0.15011\tvalidation_1-logloss:0.48824\n",
      "[52]\tvalidation_0-error:0.08063\tvalidation_0-logloss:0.45275\tvalidation_1-error:0.14918\tvalidation_1-logloss:0.48572\n",
      "[53]\tvalidation_0-error:0.08041\tvalidation_0-logloss:0.44973\tvalidation_1-error:0.14879\tvalidation_1-logloss:0.48326\n",
      "[54]\tvalidation_0-error:0.08050\tvalidation_0-logloss:0.44680\tvalidation_1-error:0.14892\tvalidation_1-logloss:0.48085\n",
      "[55]\tvalidation_0-error:0.08024\tvalidation_0-logloss:0.44391\tvalidation_1-error:0.14879\tvalidation_1-logloss:0.47847\n",
      "[56]\tvalidation_0-error:0.07997\tvalidation_0-logloss:0.44101\tvalidation_1-error:0.14812\tvalidation_1-logloss:0.47613\n",
      "[57]\tvalidation_0-error:0.07993\tvalidation_0-logloss:0.43818\tvalidation_1-error:0.14826\tvalidation_1-logloss:0.47381\n",
      "[58]\tvalidation_0-error:0.07953\tvalidation_0-logloss:0.43540\tvalidation_1-error:0.14812\tvalidation_1-logloss:0.47151\n",
      "[59]\tvalidation_0-error:0.07944\tvalidation_0-logloss:0.43265\tvalidation_1-error:0.14865\tvalidation_1-logloss:0.46927\n",
      "[60]\tvalidation_0-error:0.07913\tvalidation_0-logloss:0.42989\tvalidation_1-error:0.14799\tvalidation_1-logloss:0.46707\n",
      "[61]\tvalidation_0-error:0.07917\tvalidation_0-logloss:0.42720\tvalidation_1-error:0.14786\tvalidation_1-logloss:0.46490\n",
      "[62]\tvalidation_0-error:0.07891\tvalidation_0-logloss:0.42457\tvalidation_1-error:0.14799\tvalidation_1-logloss:0.46274\n",
      "[63]\tvalidation_0-error:0.07864\tvalidation_0-logloss:0.42192\tvalidation_1-error:0.14812\tvalidation_1-logloss:0.46066\n",
      "[64]\tvalidation_0-error:0.07891\tvalidation_0-logloss:0.41933\tvalidation_1-error:0.14812\tvalidation_1-logloss:0.45856\n",
      "[65]\tvalidation_0-error:0.07873\tvalidation_0-logloss:0.41678\tvalidation_1-error:0.14812\tvalidation_1-logloss:0.45648\n",
      "[66]\tvalidation_0-error:0.07873\tvalidation_0-logloss:0.41427\tvalidation_1-error:0.14746\tvalidation_1-logloss:0.45446\n"
     ]
    },
    {
     "name": "stdout",
     "output_type": "stream",
     "text": [
      "[67]\tvalidation_0-error:0.07847\tvalidation_0-logloss:0.41175\tvalidation_1-error:0.14799\tvalidation_1-logloss:0.45249\n",
      "[68]\tvalidation_0-error:0.07829\tvalidation_0-logloss:0.40926\tvalidation_1-error:0.14799\tvalidation_1-logloss:0.45053\n",
      "[69]\tvalidation_0-error:0.07820\tvalidation_0-logloss:0.40678\tvalidation_1-error:0.14799\tvalidation_1-logloss:0.44862\n",
      "[70]\tvalidation_0-error:0.07780\tvalidation_0-logloss:0.40436\tvalidation_1-error:0.14812\tvalidation_1-logloss:0.44672\n",
      "[71]\tvalidation_0-error:0.07763\tvalidation_0-logloss:0.40197\tvalidation_1-error:0.14786\tvalidation_1-logloss:0.44483\n",
      "[72]\tvalidation_0-error:0.07767\tvalidation_0-logloss:0.39960\tvalidation_1-error:0.14759\tvalidation_1-logloss:0.44298\n",
      "[73]\tvalidation_0-error:0.07745\tvalidation_0-logloss:0.39724\tvalidation_1-error:0.14706\tvalidation_1-logloss:0.44119\n",
      "[74]\tvalidation_0-error:0.07741\tvalidation_0-logloss:0.39496\tvalidation_1-error:0.14746\tvalidation_1-logloss:0.43935\n",
      "[75]\tvalidation_0-error:0.07745\tvalidation_0-logloss:0.39266\tvalidation_1-error:0.14746\tvalidation_1-logloss:0.43761\n",
      "[76]\tvalidation_0-error:0.07692\tvalidation_0-logloss:0.39039\tvalidation_1-error:0.14693\tvalidation_1-logloss:0.43585\n",
      "[77]\tvalidation_0-error:0.07692\tvalidation_0-logloss:0.38819\tvalidation_1-error:0.14719\tvalidation_1-logloss:0.43414\n",
      "[78]\tvalidation_0-error:0.07652\tvalidation_0-logloss:0.38601\tvalidation_1-error:0.14706\tvalidation_1-logloss:0.43243\n",
      "[79]\tvalidation_0-error:0.07643\tvalidation_0-logloss:0.38386\tvalidation_1-error:0.14719\tvalidation_1-logloss:0.43073\n",
      "[80]\tvalidation_0-error:0.07634\tvalidation_0-logloss:0.38169\tvalidation_1-error:0.14746\tvalidation_1-logloss:0.42912\n",
      "[81]\tvalidation_0-error:0.07621\tvalidation_0-logloss:0.37958\tvalidation_1-error:0.14799\tvalidation_1-logloss:0.42749\n",
      "[82]\tvalidation_0-error:0.07581\tvalidation_0-logloss:0.37747\tvalidation_1-error:0.14733\tvalidation_1-logloss:0.42588\n",
      "[83]\tvalidation_0-error:0.07528\tvalidation_0-logloss:0.37540\tvalidation_1-error:0.14706\tvalidation_1-logloss:0.42430\n",
      "[84]\tvalidation_0-error:0.07511\tvalidation_0-logloss:0.37335\tvalidation_1-error:0.14653\tvalidation_1-logloss:0.42276\n",
      "[85]\tvalidation_0-error:0.07489\tvalidation_0-logloss:0.37133\tvalidation_1-error:0.14666\tvalidation_1-logloss:0.42121\n",
      "[86]\tvalidation_0-error:0.07497\tvalidation_0-logloss:0.36933\tvalidation_1-error:0.14666\tvalidation_1-logloss:0.41969\n",
      "[87]\tvalidation_0-error:0.07493\tvalidation_0-logloss:0.36732\tvalidation_1-error:0.14627\tvalidation_1-logloss:0.41819\n",
      "[88]\tvalidation_0-error:0.07466\tvalidation_0-logloss:0.36538\tvalidation_1-error:0.14680\tvalidation_1-logloss:0.41672\n",
      "[89]\tvalidation_0-error:0.07436\tvalidation_0-logloss:0.36348\tvalidation_1-error:0.14666\tvalidation_1-logloss:0.41529\n",
      "[90]\tvalidation_0-error:0.07436\tvalidation_0-logloss:0.36158\tvalidation_1-error:0.14680\tvalidation_1-logloss:0.41385\n",
      "[91]\tvalidation_0-error:0.07422\tvalidation_0-logloss:0.35966\tvalidation_1-error:0.14680\tvalidation_1-logloss:0.41242\n",
      "[92]\tvalidation_0-error:0.07409\tvalidation_0-logloss:0.35781\tvalidation_1-error:0.14653\tvalidation_1-logloss:0.41106\n",
      "[93]\tvalidation_0-error:0.07400\tvalidation_0-logloss:0.35594\tvalidation_1-error:0.14653\tvalidation_1-logloss:0.40969\n",
      "[94]\tvalidation_0-error:0.07374\tvalidation_0-logloss:0.35409\tvalidation_1-error:0.14666\tvalidation_1-logloss:0.40834\n",
      "[95]\tvalidation_0-error:0.07360\tvalidation_0-logloss:0.35231\tvalidation_1-error:0.14653\tvalidation_1-logloss:0.40702\n",
      "[96]\tvalidation_0-error:0.07338\tvalidation_0-logloss:0.35049\tvalidation_1-error:0.14666\tvalidation_1-logloss:0.40570\n",
      "[97]\tvalidation_0-error:0.07329\tvalidation_0-logloss:0.34873\tvalidation_1-error:0.14719\tvalidation_1-logloss:0.40440\n",
      "[98]\tvalidation_0-error:0.07329\tvalidation_0-logloss:0.34697\tvalidation_1-error:0.14773\tvalidation_1-logloss:0.40313\n",
      "[99]\tvalidation_0-error:0.07325\tvalidation_0-logloss:0.34519\tvalidation_1-error:0.14746\tvalidation_1-logloss:0.40186\n",
      "[100]\tvalidation_0-error:0.07307\tvalidation_0-logloss:0.34346\tvalidation_1-error:0.14719\tvalidation_1-logloss:0.40061\n",
      "[101]\tvalidation_0-error:0.07281\tvalidation_0-logloss:0.34177\tvalidation_1-error:0.14733\tvalidation_1-logloss:0.39937\n",
      "[102]\tvalidation_0-error:0.07268\tvalidation_0-logloss:0.34008\tvalidation_1-error:0.14733\tvalidation_1-logloss:0.39817\n",
      "[103]\tvalidation_0-error:0.07263\tvalidation_0-logloss:0.33842\tvalidation_1-error:0.14706\tvalidation_1-logloss:0.39698\n",
      "[104]\tvalidation_0-error:0.07254\tvalidation_0-logloss:0.33674\tvalidation_1-error:0.14693\tvalidation_1-logloss:0.39580\n",
      "[105]\tvalidation_0-error:0.07237\tvalidation_0-logloss:0.33507\tvalidation_1-error:0.14706\tvalidation_1-logloss:0.39466\n",
      "[106]\tvalidation_0-error:0.07210\tvalidation_0-logloss:0.33343\tvalidation_1-error:0.14719\tvalidation_1-logloss:0.39351\n",
      "[107]\tvalidation_0-error:0.07179\tvalidation_0-logloss:0.33182\tvalidation_1-error:0.14733\tvalidation_1-logloss:0.39241\n",
      "[108]\tvalidation_0-error:0.07188\tvalidation_0-logloss:0.33024\tvalidation_1-error:0.14719\tvalidation_1-logloss:0.39130\n",
      "[109]\tvalidation_0-error:0.07161\tvalidation_0-logloss:0.32863\tvalidation_1-error:0.14719\tvalidation_1-logloss:0.39022\n",
      "[110]\tvalidation_0-error:0.07126\tvalidation_0-logloss:0.32709\tvalidation_1-error:0.14719\tvalidation_1-logloss:0.38913\n",
      "[111]\tvalidation_0-error:0.07122\tvalidation_0-logloss:0.32558\tvalidation_1-error:0.14746\tvalidation_1-logloss:0.38806\n",
      "[112]\tvalidation_0-error:0.07095\tvalidation_0-logloss:0.32408\tvalidation_1-error:0.14693\tvalidation_1-logloss:0.38698\n",
      "[113]\tvalidation_0-error:0.07122\tvalidation_0-logloss:0.32260\tvalidation_1-error:0.14746\tvalidation_1-logloss:0.38593\n",
      "[114]\tvalidation_0-error:0.07086\tvalidation_0-logloss:0.32110\tvalidation_1-error:0.14706\tvalidation_1-logloss:0.38488\n",
      "[115]\tvalidation_0-error:0.07086\tvalidation_0-logloss:0.31966\tvalidation_1-error:0.14666\tvalidation_1-logloss:0.38385\n",
      "[116]\tvalidation_0-error:0.07091\tvalidation_0-logloss:0.31822\tvalidation_1-error:0.14680\tvalidation_1-logloss:0.38285\n",
      "[117]\tvalidation_0-error:0.07073\tvalidation_0-logloss:0.31680\tvalidation_1-error:0.14640\tvalidation_1-logloss:0.38184\n",
      "[118]\tvalidation_0-error:0.07051\tvalidation_0-logloss:0.31537\tvalidation_1-error:0.14640\tvalidation_1-logloss:0.38085\n",
      "[119]\tvalidation_0-error:0.07069\tvalidation_0-logloss:0.31398\tvalidation_1-error:0.14666\tvalidation_1-logloss:0.37989\n",
      "[120]\tvalidation_0-error:0.07055\tvalidation_0-logloss:0.31260\tvalidation_1-error:0.14653\tvalidation_1-logloss:0.37893\n",
      "[121]\tvalidation_0-error:0.07038\tvalidation_0-logloss:0.31124\tvalidation_1-error:0.14680\tvalidation_1-logloss:0.37798\n",
      "[122]\tvalidation_0-error:0.06985\tvalidation_0-logloss:0.30987\tvalidation_1-error:0.14706\tvalidation_1-logloss:0.37705\n",
      "[123]\tvalidation_0-error:0.06980\tvalidation_0-logloss:0.30851\tvalidation_1-error:0.14653\tvalidation_1-logloss:0.37612\n",
      "[124]\tvalidation_0-error:0.06954\tvalidation_0-logloss:0.30714\tvalidation_1-error:0.14680\tvalidation_1-logloss:0.37521\n",
      "[125]\tvalidation_0-error:0.06949\tvalidation_0-logloss:0.30584\tvalidation_1-error:0.14680\tvalidation_1-logloss:0.37432\n",
      "[126]\tvalidation_0-error:0.06940\tvalidation_0-logloss:0.30450\tvalidation_1-error:0.14693\tvalidation_1-logloss:0.37342\n",
      "[127]\tvalidation_0-error:0.06945\tvalidation_0-logloss:0.30327\tvalidation_1-error:0.14640\tvalidation_1-logloss:0.37252\n",
      "[128]\tvalidation_0-error:0.06949\tvalidation_0-logloss:0.30205\tvalidation_1-error:0.14600\tvalidation_1-logloss:0.37164\n",
      "[129]\tvalidation_0-error:0.06949\tvalidation_0-logloss:0.30080\tvalidation_1-error:0.14613\tvalidation_1-logloss:0.37078\n",
      "[130]\tvalidation_0-error:0.06923\tvalidation_0-logloss:0.29954\tvalidation_1-error:0.14600\tvalidation_1-logloss:0.36992\n",
      "[131]\tvalidation_0-error:0.06910\tvalidation_0-logloss:0.29830\tvalidation_1-error:0.14600\tvalidation_1-logloss:0.36907\n",
      "[132]\tvalidation_0-error:0.06910\tvalidation_0-logloss:0.29705\tvalidation_1-error:0.14560\tvalidation_1-logloss:0.36823\n",
      "[133]\tvalidation_0-error:0.06901\tvalidation_0-logloss:0.29589\tvalidation_1-error:0.14587\tvalidation_1-logloss:0.36737\n",
      "[134]\tvalidation_0-error:0.06887\tvalidation_0-logloss:0.29470\tvalidation_1-error:0.14521\tvalidation_1-logloss:0.36654\n",
      "[135]\tvalidation_0-error:0.06887\tvalidation_0-logloss:0.29345\tvalidation_1-error:0.14547\tvalidation_1-logloss:0.36571\n",
      "[136]\tvalidation_0-error:0.06892\tvalidation_0-logloss:0.29224\tvalidation_1-error:0.14481\tvalidation_1-logloss:0.36494\n"
     ]
    },
    {
     "name": "stdout",
     "output_type": "stream",
     "text": [
      "[137]\tvalidation_0-error:0.06874\tvalidation_0-logloss:0.29108\tvalidation_1-error:0.14468\tvalidation_1-logloss:0.36414\n",
      "[138]\tvalidation_0-error:0.06892\tvalidation_0-logloss:0.28996\tvalidation_1-error:0.14468\tvalidation_1-logloss:0.36332\n",
      "[139]\tvalidation_0-error:0.06887\tvalidation_0-logloss:0.28876\tvalidation_1-error:0.14481\tvalidation_1-logloss:0.36257\n",
      "[140]\tvalidation_0-error:0.06870\tvalidation_0-logloss:0.28759\tvalidation_1-error:0.14481\tvalidation_1-logloss:0.36180\n",
      "[141]\tvalidation_0-error:0.06874\tvalidation_0-logloss:0.28646\tvalidation_1-error:0.14454\tvalidation_1-logloss:0.36104\n",
      "[142]\tvalidation_0-error:0.06861\tvalidation_0-logloss:0.28534\tvalidation_1-error:0.14441\tvalidation_1-logloss:0.36029\n",
      "[143]\tvalidation_0-error:0.06834\tvalidation_0-logloss:0.28421\tvalidation_1-error:0.14441\tvalidation_1-logloss:0.35953\n",
      "[144]\tvalidation_0-error:0.06839\tvalidation_0-logloss:0.28306\tvalidation_1-error:0.14468\tvalidation_1-logloss:0.35883\n",
      "[145]\tvalidation_0-error:0.06790\tvalidation_0-logloss:0.28192\tvalidation_1-error:0.14481\tvalidation_1-logloss:0.35814\n",
      "[146]\tvalidation_0-error:0.06772\tvalidation_0-logloss:0.28082\tvalidation_1-error:0.14481\tvalidation_1-logloss:0.35746\n",
      "[147]\tvalidation_0-error:0.06764\tvalidation_0-logloss:0.27974\tvalidation_1-error:0.14494\tvalidation_1-logloss:0.35676\n",
      "[148]\tvalidation_0-error:0.06764\tvalidation_0-logloss:0.27867\tvalidation_1-error:0.14481\tvalidation_1-logloss:0.35612\n",
      "[149]\tvalidation_0-error:0.06755\tvalidation_0-logloss:0.27755\tvalidation_1-error:0.14468\tvalidation_1-logloss:0.35549\n",
      "[150]\tvalidation_0-error:0.06737\tvalidation_0-logloss:0.27651\tvalidation_1-error:0.14428\tvalidation_1-logloss:0.35481\n",
      "[151]\tvalidation_0-error:0.06711\tvalidation_0-logloss:0.27543\tvalidation_1-error:0.14428\tvalidation_1-logloss:0.35419\n",
      "[152]\tvalidation_0-error:0.06715\tvalidation_0-logloss:0.27441\tvalidation_1-error:0.14414\tvalidation_1-logloss:0.35354\n",
      "[153]\tvalidation_0-error:0.06728\tvalidation_0-logloss:0.27334\tvalidation_1-error:0.14428\tvalidation_1-logloss:0.35293\n",
      "[154]\tvalidation_0-error:0.06680\tvalidation_0-logloss:0.27230\tvalidation_1-error:0.14414\tvalidation_1-logloss:0.35232\n",
      "[155]\tvalidation_0-error:0.06675\tvalidation_0-logloss:0.27131\tvalidation_1-error:0.14401\tvalidation_1-logloss:0.35169\n",
      "[156]\tvalidation_0-error:0.06666\tvalidation_0-logloss:0.27031\tvalidation_1-error:0.14375\tvalidation_1-logloss:0.35111\n",
      "[157]\tvalidation_0-error:0.06675\tvalidation_0-logloss:0.26935\tvalidation_1-error:0.14375\tvalidation_1-logloss:0.35051\n",
      "[158]\tvalidation_0-error:0.06657\tvalidation_0-logloss:0.26836\tvalidation_1-error:0.14375\tvalidation_1-logloss:0.34992\n",
      "[159]\tvalidation_0-error:0.06627\tvalidation_0-logloss:0.26736\tvalidation_1-error:0.14361\tvalidation_1-logloss:0.34938\n",
      "[160]\tvalidation_0-error:0.06631\tvalidation_0-logloss:0.26640\tvalidation_1-error:0.14361\tvalidation_1-logloss:0.34878\n",
      "[161]\tvalidation_0-error:0.06653\tvalidation_0-logloss:0.26548\tvalidation_1-error:0.14361\tvalidation_1-logloss:0.34820\n",
      "[162]\tvalidation_0-error:0.06627\tvalidation_0-logloss:0.26453\tvalidation_1-error:0.14348\tvalidation_1-logloss:0.34766\n",
      "[163]\tvalidation_0-error:0.06587\tvalidation_0-logloss:0.26356\tvalidation_1-error:0.14401\tvalidation_1-logloss:0.34713\n",
      "[164]\tvalidation_0-error:0.06569\tvalidation_0-logloss:0.26263\tvalidation_1-error:0.14375\tvalidation_1-logloss:0.34658\n",
      "[165]\tvalidation_0-error:0.06556\tvalidation_0-logloss:0.26172\tvalidation_1-error:0.14361\tvalidation_1-logloss:0.34604\n",
      "[166]\tvalidation_0-error:0.06538\tvalidation_0-logloss:0.26081\tvalidation_1-error:0.14388\tvalidation_1-logloss:0.34551\n",
      "[167]\tvalidation_0-error:0.06543\tvalidation_0-logloss:0.25988\tvalidation_1-error:0.14388\tvalidation_1-logloss:0.34500\n",
      "[168]\tvalidation_0-error:0.06512\tvalidation_0-logloss:0.25899\tvalidation_1-error:0.14414\tvalidation_1-logloss:0.34446\n",
      "[169]\tvalidation_0-error:0.06543\tvalidation_0-logloss:0.25812\tvalidation_1-error:0.14428\tvalidation_1-logloss:0.34394\n",
      "[170]\tvalidation_0-error:0.06520\tvalidation_0-logloss:0.25720\tvalidation_1-error:0.14375\tvalidation_1-logloss:0.34343\n",
      "[171]\tvalidation_0-error:0.06507\tvalidation_0-logloss:0.25637\tvalidation_1-error:0.14322\tvalidation_1-logloss:0.34292\n",
      "[172]\tvalidation_0-error:0.06498\tvalidation_0-logloss:0.25550\tvalidation_1-error:0.14335\tvalidation_1-logloss:0.34243\n",
      "[173]\tvalidation_0-error:0.06498\tvalidation_0-logloss:0.25467\tvalidation_1-error:0.14322\tvalidation_1-logloss:0.34191\n",
      "[174]\tvalidation_0-error:0.06485\tvalidation_0-logloss:0.25383\tvalidation_1-error:0.14348\tvalidation_1-logloss:0.34141\n",
      "[175]\tvalidation_0-error:0.06481\tvalidation_0-logloss:0.25299\tvalidation_1-error:0.14361\tvalidation_1-logloss:0.34094\n",
      "[176]\tvalidation_0-error:0.06481\tvalidation_0-logloss:0.25216\tvalidation_1-error:0.14428\tvalidation_1-logloss:0.34047\n",
      "[177]\tvalidation_0-error:0.06459\tvalidation_0-logloss:0.25131\tvalidation_1-error:0.14414\tvalidation_1-logloss:0.34002\n",
      "[178]\tvalidation_0-error:0.06450\tvalidation_0-logloss:0.25054\tvalidation_1-error:0.14401\tvalidation_1-logloss:0.33956\n",
      "[179]\tvalidation_0-error:0.06432\tvalidation_0-logloss:0.24968\tvalidation_1-error:0.14375\tvalidation_1-logloss:0.33913\n",
      "[180]\tvalidation_0-error:0.06432\tvalidation_0-logloss:0.24893\tvalidation_1-error:0.14375\tvalidation_1-logloss:0.33867\n",
      "[181]\tvalidation_0-error:0.06419\tvalidation_0-logloss:0.24808\tvalidation_1-error:0.14375\tvalidation_1-logloss:0.33825\n",
      "[182]\tvalidation_0-error:0.06401\tvalidation_0-logloss:0.24734\tvalidation_1-error:0.14348\tvalidation_1-logloss:0.33781\n",
      "[183]\tvalidation_0-error:0.06406\tvalidation_0-logloss:0.24656\tvalidation_1-error:0.14361\tvalidation_1-logloss:0.33737\n",
      "[184]\tvalidation_0-error:0.06401\tvalidation_0-logloss:0.24577\tvalidation_1-error:0.14348\tvalidation_1-logloss:0.33691\n",
      "[185]\tvalidation_0-error:0.06392\tvalidation_0-logloss:0.24504\tvalidation_1-error:0.14348\tvalidation_1-logloss:0.33648\n",
      "[186]\tvalidation_0-error:0.06379\tvalidation_0-logloss:0.24429\tvalidation_1-error:0.14348\tvalidation_1-logloss:0.33605\n",
      "[187]\tvalidation_0-error:0.06361\tvalidation_0-logloss:0.24353\tvalidation_1-error:0.14401\tvalidation_1-logloss:0.33563\n",
      "[188]\tvalidation_0-error:0.06357\tvalidation_0-logloss:0.24279\tvalidation_1-error:0.14401\tvalidation_1-logloss:0.33522\n",
      "[189]\tvalidation_0-error:0.06352\tvalidation_0-logloss:0.24204\tvalidation_1-error:0.14401\tvalidation_1-logloss:0.33481\n",
      "[190]\tvalidation_0-error:0.06335\tvalidation_0-logloss:0.24135\tvalidation_1-error:0.14335\tvalidation_1-logloss:0.33443\n",
      "[191]\tvalidation_0-error:0.06335\tvalidation_0-logloss:0.24063\tvalidation_1-error:0.14335\tvalidation_1-logloss:0.33401\n",
      "[192]\tvalidation_0-error:0.06335\tvalidation_0-logloss:0.23996\tvalidation_1-error:0.14335\tvalidation_1-logloss:0.33361\n",
      "[193]\tvalidation_0-error:0.06335\tvalidation_0-logloss:0.23929\tvalidation_1-error:0.14348\tvalidation_1-logloss:0.33320\n",
      "[194]\tvalidation_0-error:0.06322\tvalidation_0-logloss:0.23863\tvalidation_1-error:0.14335\tvalidation_1-logloss:0.33280\n",
      "[195]\tvalidation_0-error:0.06291\tvalidation_0-logloss:0.23790\tvalidation_1-error:0.14348\tvalidation_1-logloss:0.33243\n",
      "[196]\tvalidation_0-error:0.06286\tvalidation_0-logloss:0.23719\tvalidation_1-error:0.14361\tvalidation_1-logloss:0.33206\n",
      "[197]\tvalidation_0-error:0.06295\tvalidation_0-logloss:0.23650\tvalidation_1-error:0.14375\tvalidation_1-logloss:0.33171\n",
      "[198]\tvalidation_0-error:0.06282\tvalidation_0-logloss:0.23586\tvalidation_1-error:0.14375\tvalidation_1-logloss:0.33132\n",
      "[199]\tvalidation_0-error:0.06291\tvalidation_0-logloss:0.23518\tvalidation_1-error:0.14375\tvalidation_1-logloss:0.33098\n"
     ]
    }
   ],
   "source": [
    "eval_set = [(x_train,y_t1), (x_test, y_t2)]\n",
    "xgb1 = XGBClassifier(**params).fit(x_train,y_t1,\n",
    "                                   early_stopping_rounds=15, \n",
    "                                   eval_metric=[\"error\", \"logloss\"], \n",
    "                                   eval_set=eval_set,\n",
    "                                   verbose=True)"
   ]
  },
  {
   "cell_type": "code",
   "execution_count": 131,
   "metadata": {},
   "outputs": [
    {
     "data": {
      "image/png": "[encoded data removed]",
      "text/plain": [
       "<Figure size 432x288 with 1 Axes>"
      ]
     },
     "metadata": {
      "needs_background": "light"
     },
     "output_type": "display_data"
    },
    {
     "data": {
      "image/png": "[encoded data removed]",
      "text/plain": [
       "<Figure size 432x288 with 1 Axes>"
      ]
     },
     "metadata": {
      "needs_background": "light"
     },
     "output_type": "display_data"
    }
   ],
   "source": [
    "#plot\n",
    "# retrieve performance metrics\n",
    "results = xgb1.evals_result()\n",
    "epochs = len(results['validation_0']['error'])\n",
    "x = range(0, epochs)\n",
    "# plot log loss\n",
    "fig, ax = plt.subplots()\n",
    "ax.plot(x, results['validation_0']['logloss'], label='Train')\n",
    "ax.plot(x, results['validation_1']['logloss'], label='Test')\n",
    "ax.legend()\n",
    "plt.ylabel('Log Loss')\n",
    "plt.xlabel('Epochs')\n",
    "plt.title('XGBoost Log Loss')\n",
    "plt.show()\n",
    "# plot classification error\n",
    "fig, ax = plt.subplots()\n",
    "ax.plot(x, results['validation_0']['error'], label='Train')\n",
    "ax.plot(x, results['validation_1']['error'], label='Test')\n",
    "ax.legend()\n",
    "plt.ylabel('Classification Error')\n",
    "plt.xlabel('Epochs')\n",
    "plt.title('XGBoost Classification Error')\n",
    "plt.show()"
   ]
  },
  {
   "cell_type": "code",
   "execution_count": 133,
   "metadata": {},
   "outputs": [],
   "source": [
    "import xgboost as xgb\n",
    "dtrain = xgb.DMatrix(x_train, label = y_t1)\n",
    "dtest = xgb.DMatrix(x_test, label = y_t2)\n",
    "\n",
    "#creating watchlist of training\n",
    "# to see out output \n",
    "watchlist = [(dtrain,'train'),(dtest, 'eval')]\n",
    "             "
   ]
  },
  {
   "cell_type": "code",
   "execution_count": 134,
   "metadata": {},
   "outputs": [],
   "source": [
    "params = {\n",
    "    'objective': 'binary:logistic',\n",
    "    'max_depth': 2,\n",
    "    'learning_rate': 1.0,\n",
    "    'silent': True,    # would be boolean in sklearn\n",
    "    'booster' : 'gbtree',\n",
    "    'max_depth' : 7,\n",
    "    'eval_metric' : 'auc'\n",
    "}\n",
    "# using bydeafault eta [default=0.3, alias: learning_rate]\n",
    "\n",
    "num_rounds = 100"
   ]
  },
  {
   "cell_type": "code",
   "execution_count": 135,
   "metadata": {},
   "outputs": [
    {
     "name": "stdout",
     "output_type": "stream",
     "text": [
      "[20:59:14] WARNING: C:/Users/Administrator/workspace/xgboost-win64_release_1.3.0/src/learner.cc:541: \n",
      "Parameters: { silent } might not be used.\n",
      "\n",
      "  This may not be accurate due to some parameters are only used in language bindings but\n",
      "  passed down to XGBoost core.  Or some parameters are not used but slip through this\n",
      "  verification. Please open an issue if you find above cases.\n",
      "\n",
      "\n",
      "[0]\ttrain-auc:0.90442\teval-auc:0.89950\n",
      "[1]\ttrain-auc:0.91797\teval-auc:0.91096\n",
      "[2]\ttrain-auc:0.92422\teval-auc:0.91418\n",
      "[3]\ttrain-auc:0.92892\teval-auc:0.91886\n",
      "[4]\ttrain-auc:0.93401\teval-auc:0.91985\n",
      "[5]\ttrain-auc:0.93758\teval-auc:0.91953\n",
      "[6]\ttrain-auc:0.93895\teval-auc:0.92026\n",
      "[7]\ttrain-auc:0.94159\teval-auc:0.91990\n",
      "[8]\ttrain-auc:0.94352\teval-auc:0.92099\n",
      "[9]\ttrain-auc:0.94565\teval-auc:0.91941\n",
      "[10]\ttrain-auc:0.94668\teval-auc:0.91964\n",
      "[11]\ttrain-auc:0.94864\teval-auc:0.92031\n",
      "[12]\ttrain-auc:0.95018\teval-auc:0.91985\n",
      "[13]\ttrain-auc:0.95102\teval-auc:0.92048\n",
      "[14]\ttrain-auc:0.95223\teval-auc:0.92006\n",
      "[15]\ttrain-auc:0.95246\teval-auc:0.92018\n",
      "[16]\ttrain-auc:0.95330\teval-auc:0.92026\n",
      "[17]\ttrain-auc:0.95497\teval-auc:0.91960\n",
      "[18]\ttrain-auc:0.95687\teval-auc:0.91806\n",
      "[19]\ttrain-auc:0.95854\teval-auc:0.91717\n",
      "[20]\ttrain-auc:0.95953\teval-auc:0.91677\n",
      "[21]\ttrain-auc:0.96073\teval-auc:0.91723\n",
      "[22]\ttrain-auc:0.96144\teval-auc:0.91719\n"
     ]
    }
   ],
   "source": [
    "model_xgb = xgb.train(params, dtrain, num_rounds, evals = watchlist, early_stopping_rounds = 15, verbose_eval = True)"
   ]
  },
  {
   "cell_type": "code",
   "execution_count": 136,
   "metadata": {},
   "outputs": [],
   "source": [
    "features_contribution = pd.Series(model_xgb.get_fscore()).sort_values(ascending=False)"
   ]
  },
  {
   "cell_type": "code",
   "execution_count": 137,
   "metadata": {},
   "outputs": [
    {
     "data": {
      "image/png": "[encoded data removed]",
      "text/plain": [
       "<Figure size 1440x720 with 1 Axes>"
      ]
     },
     "metadata": {
      "needs_background": "light"
     },
     "output_type": "display_data"
    }
   ],
   "source": [
    "plt.figure(figsize=(20,10))\n",
    "features_contribution[:50].plot(kind='bar', title='Feature Importances')\n",
    "#features_contribution[:50].plot(kind='line')\n",
    "plt.ylabel('Feature Importance Score')\n",
    "plt.show()"
   ]
  },
  {
   "cell_type": "code",
   "execution_count": null,
   "metadata": {},
   "outputs": [],
   "source": []
  }
 ],
 "metadata": {
  "kernelspec": {
   "display_name": "Python 3",
   "language": "python",
   "name": "python3"
  },
  "language_info": {
   "codemirror_mode": {
    "name": "ipython",
    "version": 3
   },
   "file_extension": ".py",
   "mimetype": "text/x-python",
   "name": "python",
   "nbconvert_exporter": "python",
   "pygments_lexer": "ipython3",
   "version": "3.7.1"
  }
 },
 "nbformat": 4,
 "nbformat_minor": 2
}

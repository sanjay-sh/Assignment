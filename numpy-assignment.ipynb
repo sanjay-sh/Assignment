{
 "cells": [
  {
   "cell_type": "markdown",
   "metadata": {},
   "source": [
    "# Numpy Assignment"
   ]
  },
  {
   "cell_type": "code",
   "execution_count": 14,
   "metadata": {},
   "outputs": [],
   "source": [
    "import numpy as np"
   ]
  },
  {
   "cell_type": "code",
   "execution_count": 18,
   "metadata": {},
   "outputs": [
    {
     "name": "stdout",
     "output_type": "stream",
     "text": [
      "Input 1-D vector \n",
      " --------------------------------------------------\n",
      "[1 2 3 4 5] \n",
      "\n",
      "Column of Vandermonde matrix \n",
      " --------------------------------------------------\n",
      "3 \n",
      "\n",
      "Alexandre Theophile Vandermonde matrix of column 3, increasing False \n",
      " ----------------------------------------------------------------------\n",
      "[[ 1  1  1]\n",
      " [ 4  2  1]\n",
      " [ 9  3  1]\n",
      " [16  4  1]\n",
      " [25  5  1]] \n",
      "\n",
      "Alexandre Theophile Vandermonde matrix of column 3, increasing True \n",
      " ----------------------------------------------------------------------\n",
      "[[ 1  1  1]\n",
      " [ 1  2  4]\n",
      " [ 1  3  9]\n",
      " [ 1  4 16]\n",
      " [ 1  5 25]] \n",
      "\n"
     ]
    }
   ],
   "source": [
    "def vander_mat(vector, N = None, increasing = False):\n",
    "    '''Function or generator is used to create a matrix of row elements in geometric series called Alexandre\n",
    "    Theophile Vandermonde matrix.\n",
    "    Function arguments-Input 1-D vector & Number of columns of Alexandre Theophile\n",
    "    Vandermonde matrix'''\n",
    "    if N == None:\n",
    "        N = len(vector)\n",
    "        if increasing == False:\n",
    "            vand_matrix = np.mat(np.array([vec ** (N-i-1) for vec in vector for i in range(N)]))\n",
    "            vand_matrix = vand_matrix.reshape(vector.size,N)\n",
    "            print(\"Alexandre Theophile Vandermonde matrix of column %d, increasing False\"%N,'\\n','--'*25)\n",
    "            print(vand_matrix,'\\n')\n",
    "        elif increasing == True:\n",
    "            vand_matrix = np.mat(np.array([vec ** i for vec in vector for i in range(N)]))\n",
    "            vand_matrix = vand_matrix.reshape(vector.size,N)\n",
    "            print(\"Alexandre Theophile Vandermonde matrix of column %d, increasing True\"%N,'\\n','--'*25)\n",
    "            print(vand_matrix,'\\n')\n",
    "    else:\n",
    "        if increasing == False:\n",
    "            vand_matrix = np.mat(np.array([vec ** (N-i-1) for vec in vector for i in range(N)]))\n",
    "            vand_matrix = vand_matrix.reshape(vector.size,N)\n",
    "            print(\"Alexandre Theophile Vandermonde matrix of column %d, increasing False\"%N,'\\n','--'*35)\n",
    "            print(vand_matrix,'\\n')\n",
    "        else:\n",
    "            vand_matrix = np.mat(np.array([vec ** i for vec in vector for i in range(N)]))\n",
    "            vand_matrix = vand_matrix.reshape(vector.size,N)\n",
    "            print(\"Alexandre Theophile Vandermonde matrix of column %d, increasing True\"%N,'\\n','--'*35)\n",
    "            print(vand_matrix,'\\n')\n",
    "        \n",
    "# Calling Function\n",
    "input_vector =np.array([1,2,3,4,5])\n",
    "col_output_matrix = 3\n",
    "print(\"Input 1-D vector\",'\\n','--'*25)\n",
    "print(input_vector,'\\n')\n",
    "print(\"Column of Vandermonde matrix\",'\\n','--'*25)\n",
    "print(col_output_matrix,'\\n')\n",
    "vander_mat(input_vector, N = col_output_matrix, increasing =False)\n",
    "vander_mat(input_vector, N = col_output_matrix, increasing =True)      \n",
    "   "
   ]
  },
  {
   "cell_type": "code",
   "execution_count": 16,
   "metadata": {},
   "outputs": [
    {
     "name": "stdout",
     "output_type": "stream",
     "text": [
      "Number of moving average sequence \n",
      " --------------------------------------------------\n",
      "n-k+1:  11 \n",
      "\n",
      "moving average sequence array \n",
      " ----------------------------------------------------------------------\n",
      "[[  5.           4.66666667   5.66666667   6.66666667   9.66666667\n",
      "   28.66666667  49.33333333  72.66666667  84.          93.33333333\n",
      "  116.33333333]]\n"
     ]
    }
   ],
   "source": [
    "def movi_avg(seq,k):\n",
    "    # seq- 1-D given sequence in array\n",
    "    # k (K>0), window size\n",
    "    n = len(seq)\n",
    "    m = n-k+1\n",
    "    mov_avg = np.empty((1,m))\n",
    "    for i in range(n+1):\n",
    "        if i-k >= 1:\n",
    "            mov_avg[0][0] = seq[0:k].mean()\n",
    "            mov_avg[0][i-k] = seq[i-k:i].mean()\n",
    "            #return mov_avg\n",
    "    print(\"Number of moving average sequence\",'\\n','--'*25)\n",
    "    print(\"n-k+1: \",n-k+1,'\\n')\n",
    "    print(\"moving average sequence array\",'\\n','--'*35)\n",
    "    print(mov_avg)\n",
    "\n",
    "#Test sequenece & window size\n",
    "seq =np.array([3, 5, 7, 2, 8, 10, 11, 65, 72, 81, 99, 100, 150])\n",
    "k =3\n",
    "#Calling Function\n",
    "movi_avg(seq,k)\n",
    "\n"
   ]
  }
 ],
 "metadata": {
  "kernelspec": {
   "display_name": "Python 3",
   "language": "python",
   "name": "python3"
  },
  "language_info": {
   "codemirror_mode": {
    "name": "ipython",
    "version": 3
   },
   "file_extension": ".py",
   "mimetype": "text/x-python",
   "name": "python",
   "nbconvert_exporter": "python",
   "pygments_lexer": "ipython3",
   "version": "3.7.1"
  }
 },
 "nbformat": 4,
 "nbformat_minor": 2
}

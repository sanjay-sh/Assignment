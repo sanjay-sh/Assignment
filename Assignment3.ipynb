{
 "cells": [
  {
   "cell_type": "markdown",
   "metadata": {},
   "source": [
    "# Assignment3"
   ]
  },
  {
   "cell_type": "code",
   "execution_count": 39,
   "metadata": {},
   "outputs": [
    {
     "data": {
      "text/plain": [
       "'fghijkmnop'"
      ]
     },
     "execution_count": 39,
     "metadata": {},
     "output_type": "execute_result"
    }
   ],
   "source": [
    "def myreduce(S,a,b,*vartuple):\n",
    "    sum= S(a,b)\n",
    "    for var in vartuple:\n",
    "         sum = S(sum,var)\n",
    "    return  sum \n",
    "#calling function\n",
    "S = lambda a,b:a+b\n",
    "myreduce(S,'fgh','ijk','mnop')"
   ]
  },
  {
   "cell_type": "code",
   "execution_count": 40,
   "metadata": {},
   "outputs": [
    {
     "name": "stdout",
     "output_type": "stream",
     "text": [
      "[False, True, False, False, True, True]\n"
     ]
    }
   ],
   "source": [
    "b = [] \n",
    "def even_check(var): ## define function even_check to chek the even number\n",
    "    if var%2 ==0:\n",
    "        return True\n",
    "    else:\n",
    "        return False \n",
    "    \n",
    "def myfilter(even_check,*varlist):\n",
    "    for var in varlist:\n",
    "        number = even_check(var)\n",
    "        b.append(number)\n",
    "    print(b)\n",
    "     \n",
    "varlist = [1,2,3,5,8,10]    \n",
    "myfilter(even_check,*varlist)\n"
   ]
  },
  {
   "cell_type": "markdown",
   "metadata": {},
   "source": [
    "List Comprehension"
   ]
  },
  {
   "cell_type": "code",
   "execution_count": 41,
   "metadata": {},
   "outputs": [
    {
     "name": "stdout",
     "output_type": "stream",
     "text": [
      "['x', 'xx', 'xxx', 'xxxx', 'y', 'yy', 'yyy', 'yyyy', 'z', 'zz', 'zzz', 'zzzz']\n",
      "['x', 'y', 'z', 'xx', 'yy', 'zz', 'xxx', 'yyy', 'zzz', 'xxxx', 'yyyy', 'zzzz']\n"
     ]
    }
   ],
   "source": [
    "ls_1 = ['x','y','z']\n",
    "ls_2 = [row[0]*2 for row in ls_1]\n",
    "ls_3 = [row[0]*3 for row in ls_1]\n",
    "ls_4 = [row[0]*4 for row in ls_1]\n",
    "matrix = [ls_1,ls_2,ls_3,ls_4]\n",
    "\n",
    "first_col= [row[0] for row in matrix]\n",
    "second_col= [row[1] for row in matrix]\n",
    "third_col= [row[2] for row in matrix]\n",
    "list1= first_col + second_col +third_col\n",
    "list2= ls_1 + ls_2 + ls_3 + ls_4\n",
    "print(list1)\n",
    "print(list2)\n"
   ]
  },
  {
   "cell_type": "code",
   "execution_count": 42,
   "metadata": {},
   "outputs": [
    {
     "name": "stdout",
     "output_type": "stream",
     "text": [
      "[[2], [3], [4], [3], [4], [5], [4], [5], [6]]\n",
      "[[2, 3, 4, 5], [3, 4, 5, 6], [4, 5, 6, 7], [5, 6, 7, 8]]\n"
     ]
    }
   ],
   "source": [
    "lis_1 = [2,3,4]\n",
    "lis_2 = [lis_1[0] + 1,lis_1[1] +1,lis_1[2]+1]\n",
    "lis_3 = [lis_2[0] + 1,lis_2[1] +1,lis_2[2]+1]\n",
    "lis_4 = [lis_3[0] + 1,lis_3[1] +1,lis_3[2]+1]\n",
    "lis_1.append(5)\n",
    "lis_2.append(6)\n",
    "lis_3.append(7)\n",
    "lis_4.append(8)\n",
    "matrix1= [lis_1,lis_2,lis_3]\n",
    "matrix2 = [lis_1,lis_2,lis_3,lis_4]\n",
    "C1 = [[row[0]]for row in matrix1]\n",
    "C2 = [[row[1]] for row in matrix1]\n",
    "C3 = [[row[2]] for row in matrix1]\n",
    "C11 = [row[0]for row in matrix2]\n",
    "C22 = [row[1] for row in matrix2]\n",
    "C33 = [row[2] for row in matrix2]\n",
    "C44 = [row[3] for row in matrix2]\n",
    "List3 =C1+C2+C3\n",
    "List4 = [C11,C22,C33,C44]\n",
    "print(List3)\n",
    "print(List4)\n"
   ]
  },
  {
   "cell_type": "code",
   "execution_count": 43,
   "metadata": {},
   "outputs": [
    {
     "name": "stdout",
     "output_type": "stream",
     "text": [
      "[(1, 1), (2, 1), (3, 1), (1, 2), (2, 2), (3, 2), (1, 3), (2, 3), (3, 3)]\n"
     ]
    }
   ],
   "source": [
    "dic1 = {y+1:1 for y in range(3)}\n",
    "dic2 = {y+1:2 for y in range(3)}\n",
    "dic3 = {y+1:3 for y in range(3)}\n",
    "d1 =dic1.items()\n",
    "d2 =dic2.items()\n",
    "d3 =dic3.items()\n",
    "List5 = list(d1)+list(d2)+list(d3)\n",
    "print(List5)\n",
    "\n"
   ]
  },
  {
   "cell_type": "code",
   "execution_count": null,
   "metadata": {},
   "outputs": [],
   "source": []
  },
  {
   "cell_type": "code",
   "execution_count": null,
   "metadata": {},
   "outputs": [],
   "source": []
  }
 ],
 "metadata": {
  "kernelspec": {
   "display_name": "Python 3",
   "language": "python",
   "name": "python3"
  },
  "language_info": {
   "codemirror_mode": {
    "name": "ipython",
    "version": 3
   },
   "file_extension": ".py",
   "mimetype": "text/x-python",
   "name": "python",
   "nbconvert_exporter": "python",
   "pygments_lexer": "ipython3",
   "version": "3.7.1"
  }
 },
 "nbformat": 4,
 "nbformat_minor": 2
}

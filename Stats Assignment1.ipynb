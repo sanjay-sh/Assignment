{
 "cells": [
  {
   "cell_type": "markdown",
   "metadata": {},
   "source": [
    "# Stats Assignment-1"
   ]
  },
  {
   "cell_type": "markdown",
   "metadata": {},
   "source": [
    "Calculate Mean, Median, Mode & Standard Deviation:\n",
    "The marks awarded for an assignment set for a Year 8 class of 20 students were as\n",
    "follows:\n",
    "6 7 5 7 7 8 7 6 9 7 4 10 6 8 8 9 5 6 4 8"
   ]
  },
  {
   "cell_type": "code",
   "execution_count": 1,
   "metadata": {},
   "outputs": [
    {
     "name": "stdout",
     "output_type": "stream",
     "text": [
      "Mean: 6.85\n",
      "Median: 7.0\n",
      "Mode: ModeResult(mode=array([7]), count=array([5]))\n",
      "STD 1.5898113095584647 \n",
      " ----------------------------------------------------------------------------------------------------\n"
     ]
    }
   ],
   "source": [
    "import numpy as np\n",
    "from scipy import stats\n",
    "dataset = [6,7,5,7,7,8,7,6,9,7,4,10,6,8,8,9,5,6,4,8]\n",
    "#mean value\n",
    "mean = np.mean(dataset)\n",
    "#median value\n",
    "median = np.median(dataset)\n",
    "#mode value \n",
    "mode = stats.mode(dataset)\n",
    "std = np.std(dataset)\n",
    "#vr = np.var(dataset)\n",
    "\n",
    "print(\"Mean:\", mean)\n",
    "print(\"Median:\", median)\n",
    "print(\"Mode:\", mode)\n",
    "print(\"STD\", std,'\\n','--'*50)"
   ]
  },
  {
   "cell_type": "markdown",
   "metadata": {},
   "source": [
    "Mean ,Median, Mode & Standard Deviation:\n",
    "The number of calls from motorists per day for roadside service was recorded for a\n",
    "particular month:\n",
    "28, 122, 217, 130, 120, 86, 80, 90, 140, 120, 70, 40, 145, 113, 90, 68, 174, 194, 170,\n",
    "100, 75, 104, 97, 75,\n",
    "123, 100, 75, 104, 97, 75, 123, 100, 89, 120, 109"
   ]
  },
  {
   "cell_type": "code",
   "execution_count": 2,
   "metadata": {},
   "outputs": [
    {
     "name": "stdout",
     "output_type": "stream",
     "text": [
      "Mean: 107.51428571428572\n",
      "Median: 100.0\n",
      "Mode: ModeResult(mode=array([75]), count=array([4]))\n",
      "STD 38.77287080168403 \n",
      " ----------------------------------------------------------------------------------------------------\n"
     ]
    }
   ],
   "source": [
    "Dataset2 = [ 28, 122, 217, 130, 120, 86, 80, 90, 140, 120, 70, 40, 145, 113, 90, 68, 174, 194, 170, 100, 75, 104, 97, 75, 123, 100, 75, 104, 97, 75, 123, 100, 89, 120, 109]\n",
    "Data = np.array(Dataset2)\n",
    "#mean value\n",
    "mean = np.mean(Data)\n",
    "#median value\n",
    "median = np.median(Data)\n",
    "#mode value \n",
    "mode = stats.mode(Data)\n",
    "std = np.std(Data)\n",
    "#vr = np.var(Data)\n",
    "\n",
    "print(\"Mean:\", mean)\n",
    "print(\"Median:\", median)\n",
    "print(\"Mode:\", mode)\n",
    "print(\"STD\", std,'\\n','--'*50)\n",
    "#print(\"Var\", vr)"
   ]
  },
  {
   "cell_type": "markdown",
   "metadata": {},
   "source": [
    "The number of times I go to the gym in weekdays, are given below along with its\n",
    "associated probability:\n",
    "x = 0, 1, 2, 3, 4, 5\n",
    "f(x) = 0.09, 0.15, 0.40, 0.25, 0.10, 0.01\n",
    "Calculate the mean no. of workouts in a week. Also evaluate the variance involved in\n",
    "it."
   ]
  },
  {
   "cell_type": "code",
   "execution_count": 144,
   "metadata": {},
   "outputs": [
    {
     "name": "stdout",
     "output_type": "stream",
     "text": [
      "Mean Number of workout: 2.15\n",
      "Variance: 1.2275 \n",
      " ______________________________________________________________________\n"
     ]
    }
   ],
   "source": [
    "x= [0, 1, 2, 3, 4, 5]\n",
    "f= [0.09, 0.15, 0.40, 0.25, 0.10,0.01]\n",
    "#Mean\n",
    "dataM  =[x[i] * f[i] for i in range(len(x))]\n",
    "Mean = sum(dataM)\n",
    "#Variance\n",
    "dataV = [((x[i]-Mean) ** 2) * f[i]  for i in range(len(x))]\n",
    "Variance = sum(dataV)\n",
    "\n",
    "print(\"Mean Number of workout:\", Mean)\n",
    "print(\"Variance:\", Variance, '\\n','_'*70)\n",
    "  "
   ]
  },
  {
   "cell_type": "markdown",
   "metadata": {},
   "source": [
    "Let the continuous random variable D denote the diameter of the hole drilled in an\n",
    "aluminum sheet. The target diameter to be achieved is 12.5mm. Random\n",
    "disturbances in the process often result in inaccuracy.\n",
    "Historical data shows that the distribution of D can be modelled by the PDF (𝑑) =\n",
    "20𝑒−20(𝑑−12.5), 𝑑 ≥ 12.5. If a part with diameter > 12.6 mm needs to be scrapped,\n",
    "what is the proportion of those parts? What is the CDF when the diameter is of 11\n",
    "mm? What is your conclusion regarding the proportion of scraps?\n"
   ]
  },
  {
   "cell_type": "code",
   "execution_count": 99,
   "metadata": {},
   "outputs": [],
   "source": [
    "#import math\n",
    "#d=12.6\n",
    "#probability of a part with diameter>12.6 mm\n",
    "#P = 20 * math.exp(-20 * (d-12.5))\n",
    "#print('Scrapped Proportion:', P)"
   ]
  },
  {
   "cell_type": "markdown",
   "metadata": {},
   "source": [
    "A company manufactures LED bulbs with a faulty rate of 30%. If I randomly select 6\n",
    "chosen LEDs, what is the probability of having 2 faulty LEDs in my sample?\n",
    "Calculate the average value of this process. Also evaluate the standard deviation\n",
    "associated with it."
   ]
  },
  {
   "cell_type": "code",
   "execution_count": 139,
   "metadata": {},
   "outputs": [
    {
     "name": "stdout",
     "output_type": "stream",
     "text": [
      "Probability of having two falty:  0.32038\n",
      "Mean value of this process:  1.7916\n",
      "Standard Deviation:  4.376998036280117 \n",
      " __________________________________________________\n"
     ]
    }
   ],
   "source": [
    "#import seaborn\n",
    "from scipy.stats import binom\n",
    "LF = [0,1,2,3,4,5,6] # List of cases corresponding to having faulty\n",
    "n = 6 # Number of Observation\n",
    "p =0.3 # Probability of having faulty\n",
    "# for 50000 trial for having i fulty LED\n",
    "DP = [] # Probability\n",
    "S = 0\n",
    "Std = 0\n",
    "for i in range(len(LF)):\n",
    "    P = sum(np.random.binomial(n, p,50000) == i)/50000.\n",
    "    S = S + P * i\n",
    "    DP.append(P)\n",
    "    \n",
    "#Standard Deviation\n",
    "\n",
    "for i in range(7):\n",
    "    Std = Std + (DP[i]-S) ** 2\n",
    "    \n",
    "#Standard Deviation\n",
    "Sigma = Std ** 0.5\n",
    "\n",
    "print('Probability of having two falty: ', DP[2]) \n",
    "print('Mean value of this process: ', S)\n",
    "print('Standard Deviation: ', Sigma,'\\n','_' * 50) \n",
    "\n",
    "    \n"
   ]
  },
  {
   "cell_type": "markdown",
   "metadata": {},
   "source": [
    "Gaurav and Barakha are both preparing for entrance exams. Gaurav attempts to\n",
    "solve 8 questions per day with a correction rate of 75%, while Barakha averages\n",
    "around 12 questions per day with a correction rate of 45%. What is the probability\n",
    "that each of them will solve 5 questions correctly? What happens in cases of 4 and 6\n",
    "correct solutions? What do you infer from it? What are the two main governing\n",
    "factors affecting their ability to solve questions correctly? Give a pictorial\n",
    "representation of the same to validate your answer."
   ]
  },
  {
   "cell_type": "code",
   "execution_count": 120,
   "metadata": {},
   "outputs": [
    {
     "name": "stdout",
     "output_type": "stream",
     "text": [
      "Probability to solve both of them five questions correctly:  0.43425\n",
      "Probability to solve 4 and 6 questions correctly:  0.3009 \n",
      " __________________________________________________\n"
     ]
    }
   ],
   "source": [
    "G = 8 # Gourav attempt to solve 8 question per day\n",
    "pg = 0.75 # gourav probability to solve question correctly\n",
    "B = 12 # Number of Question Solve by Barakha per day\n",
    "pb = 0.45 # Barakha probability to solve question correctly\n",
    "# Probability to solve both of them five question correctly\n",
    "P = sum(np.random.binomial(G,pg,20000)==5)/20000 + sum(np.random.binomial(B,pb,20000)==5)/20000\n",
    "# Probability to solve 4 & 6 correct solution\n",
    "Q = sum(np.random.binomial(G,pg,20000)==4)/20000 + sum(np.random.binomial(B,pb,20000)==6)/20000\n",
    "print('Probability to solve both of them five questions correctly: ',P)\n",
    "print('Probability to solve 4 and 6 questions correctly: ',Q,'\\n','_' * 50)\n",
    "\n",
    "\n",
    "    "
   ]
  },
  {
   "cell_type": "markdown",
   "metadata": {},
   "source": [
    "Customers arrive at a rate of 72 per hour to my shop. What is the probability of 𝑘\n",
    "customers arriving in 4 minutes? a) 5 customers, b) not more than 3 customers, c)\n",
    "more than 3 customers. Give a pictorial representation of the same to validate your\n",
    "answer."
   ]
  },
  {
   "cell_type": "code",
   "execution_count": 161,
   "metadata": {},
   "outputs": [
    {
     "name": "stdout",
     "output_type": "stream",
     "text": [
      "probability arriving 5 customers: 0.1761\n",
      "probability arriving not more than three customers: 0.14265\n",
      "probability arriving more than three customers: 0.8573500000000001 \n",
      " ______________________________________________________________________\n"
     ]
    }
   ],
   "source": [
    "''' Probability of k customers arriving in 4 minutes can be given by Poisson distribution\n",
    " P(k) = (exp(-mu) * mu ** k)/k!, where mu is the average rate of success\n",
    " average rate in 4 minute is given by\n",
    " mu = 72 *4/60 = 4.8\n",
    " hence probabiliy of k customer arriving in 4 minutes is\n",
    "  P(k) = (exp(-4.8) * 4.8 ** k)/k!'''\n",
    "mu = (72 * 4)/60 # Average rate per 4 minute\n",
    "# Probability of arriving 5 coustmers\n",
    "P5 = sum(np.random.poisson(mu,20000)==5)/20000\n",
    "# Probability of arriving not more than 3 coustmersP(X<=3)\n",
    "# P0+P1+P2\n",
    "P = sum(np.random.poisson(mu,20000)==0)/20000 + sum(np.random.poisson(mu,20000)==1)/20000 + sum(np.random.poisson(mu,20000)==2)/20000\n",
    "#  Probability of arriving more than 3 coustmersP(X<=3), 1-P\n",
    "Q = 1-P\n",
    "\n",
    "print('probability arriving 5 customers:', P5)\n",
    "print('probability arriving not more than three customers:', P)\n",
    "print('probability arriving more than three customers:', Q,'\\n','_'*70)\n"
   ]
  },
  {
   "cell_type": "markdown",
   "metadata": {},
   "source": [
    "I work as a data analyst in Aeon Learning Pvt. Ltd. After analyzing data, I make\n",
    "reports, where I have the efficiency of entering 77 words per minute with 6 errors per\n",
    "hour. What is the probability that I will commit 2 errors in a 455-word financial report?\n",
    "What happens when the no. of words increases/decreases (in case of 1000 words,\n",
    "255 words)?\n",
    "How is the 𝜆 affected?\n",
    "How does it influence the PMF?\n",
    "Give a pictorial representation of the same to validate your answer."
   ]
  },
  {
   "cell_type": "code",
   "execution_count": 160,
   "metadata": {},
   "outputs": [
    {
     "name": "stdout",
     "output_type": "stream",
     "text": [
      "probability to commit 2 errors in 455-word:  0.096732\n",
      "probability to commit 2 errors in 1000-word:  0.229468\n",
      "probability to commit 2 errors in 255-word:  0.039366\n"
     ]
    }
   ],
   "source": [
    "#Probabilit to commit error per minute\n",
    "p = 6/(77*60)\n",
    "#Probability to commit 2 errors in a 455-word financial report\n",
    "n= 455\n",
    "p1 = sum(np.random.binomial(n,p,500000)==2)/500000\n",
    "print('probability to commit 2 errors in 455-word: ',p1)\n",
    "# for increasing words\n",
    "n1= 1000\n",
    "p2 = sum(np.random.binomial(n1,p,500000)==2)/500000\n",
    "print('probability to commit 2 errors in 1000-word: ',p2)\n",
    "# for decreasing words\n",
    "n2 = 255\n",
    "p3 = sum(np.random.binomial(n2,p,500000)==2)/500000\n",
    "print('probability to commit 2 errors in 255-word: ',p3)"
   ]
  },
  {
   "cell_type": "raw",
   "metadata": {},
   "source": [
    " Conclusion: As the number of word increses the probablity of commiting 2-errors per minutes increases as this is expected with high number of sample words.\n",
    " "
   ]
  },
  {
   "cell_type": "markdown",
   "metadata": {},
   "source": [
    "Please compute the following:\n",
    "a) P(Z > 1.26), . P(Z < −0.86), P(Z > −1.37), P(−1.25 < Z < 0.37), . P(Z ≤ −4.6)\n",
    "b) Find the value 𝑧 such that 𝑃(𝑍 > 𝑧) = 0.05\n",
    "c) Find the value of 𝑧 such that 𝑃(−𝑧 < 𝑍 < 𝑧) = 0.99"
   ]
  },
  {
   "cell_type": "code",
   "execution_count": 166,
   "metadata": {},
   "outputs": [
    {
     "name": "stdout",
     "output_type": "stream",
     "text": [
      "P(Z>1.26): 0.10382999999999998\n",
      "P(Z < -0.86): 0.19489\n",
      "P(Z > -1.37): 0.91466\n",
      "P(-1.25 < Z > 0.37): 0.53866\n",
      "value of z for P(Z>z) = 0.05: 1.65\n",
      "value of z for P(-z < Z > z): 2.57 \n",
      " ------------------------------------------------------------------------------------------------------------------------\n"
     ]
    }
   ],
   "source": [
    "#Solution:\n",
    "#(a) P(Z>1.26)\n",
    "#from Z stats Table\n",
    "#Probability = 1-P(Z<1.26)\n",
    "p1 = 1-0.89617 # for Z > 1.26\n",
    "#P(Z < −0.86)\n",
    "p2= 0.19489 \n",
    "#P(Z > −1.37)\n",
    "p3 = 1-0.08534 #probability for Z > -1.37\n",
    "#P(−1.25 < Z < 0.37)\n",
    "#P(Z<0.37)-P(Z<-1.25)\n",
    "p4 = 0.64431-0.10565 # probability for Z lies in [-1.25,0.37]\n",
    "print('P(Z>1.26):', p1)\n",
    "print('P(Z < -0.86):', p2)\n",
    "print('P(Z > -1.37):', p3)\n",
    "print('P(-1.25 < Z > 0.37):', p4)\n",
    "# finding the values of z with Z-tables:\n",
    "#P(Z>z) = 0.05\n",
    "# P(Z>z)= 1-P(Z<z)\n",
    "p5 = 1-0.05 # probability for Z<z\n",
    "p5 = 0.95\n",
    "#from Z-table\n",
    "Z1 = 1.65\n",
    "print('value of z for P(Z>z) = 0.05:', Z1)\n",
    "# 𝑃(−𝑧 < 𝑍 < 𝑧) = 0.99\n",
    "# P(Z <-z) = (1-.99)/2\n",
    "# from Z-table \n",
    "Z2 = 2.57\n",
    "print('value of z for P(-z < Z > z):', Z2,'\\n','--'*60)\n"
   ]
  },
  {
   "cell_type": "markdown",
   "metadata": {},
   "source": [
    "The current flow in a copper wire follow a normal distribution with a mean of 10 𝑚A\n",
    "and a variance of 4 (𝑚𝐴)2.\n",
    "What is the probability that a current measurement will exceed 13 𝑚𝐴? What is the\n",
    "probability that a current measurement is between 9 and 11mA? Determine the\n",
    "current measurement which has a probability of 0.98."
   ]
  },
  {
   "cell_type": "code",
   "execution_count": 176,
   "metadata": {},
   "outputs": [
    {
     "name": "stdout",
     "output_type": "stream",
     "text": [
      "Z-values for current exceed 13 mA:  1.5\n",
      "Probability of current will exceed 13 mA:  0.06681000000000004\n",
      "lower value of z: -0.5\n",
      "higher value of z: 0.5\n",
      "P(z1<Z<z2):  0.38292\n",
      "zvalues for prabaility of 0.98:  2.06\n",
      "value of current having probability 0.98:  14.120000000000001 \n",
      " ----------------------------------------------------------------------------------------------------\n"
     ]
    }
   ],
   "source": [
    "# Z value for current measurements exceed 13 mA assuming narmal distribution of current mean values\n",
    "PM = 10 # mA\n",
    "Var = 4 # (mA)2\n",
    "Sigma = Var ** 0.5\n",
    "SM = 13 #mA\n",
    "z = (SM-PM)/Sigma # Z>z case\n",
    "# from Z table \n",
    "p = 1-0.93319 # 1-P(Z<z)\n",
    "print('Z-values for current exceed 13 mA: ',z)\n",
    "print('Probability of current will exceed 13 mA: ',p)\n",
    "# Probability for current lies in interval [9 11]\n",
    "# lower Z value\n",
    "z1 = (9-PM)/Sigma\n",
    "z2 = (11-PM)/Sigma\n",
    "#Probability for current lies in interval[z1 z2]\n",
    "p12 = 0.69146-0.30854 # P(Z<z2)-P(Z<z1)\n",
    "print('lower value of z:', z1)\n",
    "print('higher value of z:', z2)\n",
    "print('P(z1<Z<z2): ', p12)\n",
    "#Measurements of currents of probability 0.98\n",
    "# Z value for probability of 0.98 from table\n",
    "z3 = 2.06\n",
    "#Current value\n",
    "im = PM + z3 * Sigma # mA\n",
    "print('zvalues for prabaility of 0.98: ', z3)\n",
    "print('value of current having probability 0.98: ', im,'\\n','--'*50)"
   ]
  },
  {
   "cell_type": "markdown",
   "metadata": {},
   "source": [
    "The shaft in a piston has its diameter normally distributed with a mean of 0.2508 inch\n",
    "and a standard deviation of 0.0005 inch. The specifications of the shaft are 0.2500 ∓\n",
    "0.0015 inch. What proportion of shafts are in sync with the specifications? If the\n",
    "process is centered so that the mean is equal to the target value of 0.2500, what\n",
    "proportion of shafts conform to the new specifications? What is your conclusion from\n",
    "this experiment?"
   ]
  },
  {
   "cell_type": "code",
   "execution_count": 186,
   "metadata": {},
   "outputs": [
    {
     "name": "stdout",
     "output_type": "stream",
     "text": [
      "lower limit of Z-value:  -4.6000000000000485\n",
      "higher limit of Z-value:  1.3999999999999568\n",
      "proportion of shaft meet with specification:  91.769 %\n",
      "lower limit of Z-value:  -3.0000000000000027\n",
      "higher limit of Z-value:  3.0000000000000027\n",
      "proportion of shaft meet with new specification:  91.63900000000001 %\n"
     ]
    }
   ],
   "source": [
    "PM = 0.2508\n",
    "Sigma = 0.0005\n",
    "d1 = .2500 + 0.0015\n",
    "d2 = 0.2500 - 0.0015\n",
    "\n",
    "z2 = (d1-PM)/Sigma\n",
    "z1 = (d2-PM)/Sigma\n",
    "print('lower limit of Z-value: ', z1)\n",
    "print('higher limit of Z-value: ', z2)\n",
    "#proportion of shaft sync with specification = P(z1<Z<z2)\n",
    "p = 0.91774-0.00005   # P(Z<z2) - P(Z<z1)\n",
    "print('proportion of shaft meet with specification: ', p*100,'%')\n",
    "# for new target mean value SM = .2500\n",
    "PM1 = .2500\n",
    "z4 = (d1-PM1)/Sigma\n",
    "z3 = (d2-PM1)/Sigma\n",
    "print('lower limit of Z-value: ', z3)\n",
    "print('higher limit of Z-value: ', z4)\n",
    "#proportion of shaft sync with new specification = P(z3<Z<z4)\n",
    "p1 = 0.91774-0.00135   # P(Z<z4) - P(Z<z3)\n",
    "print('proportion of shaft meet with new specification: ', p1*100,'%')\n",
    "\n",
    "\n"
   ]
  },
  {
   "cell_type": "code",
   "execution_count": null,
   "metadata": {},
   "outputs": [],
   "source": []
  }
 ],
 "metadata": {
  "kernelspec": {
   "display_name": "Python 3",
   "language": "python",
   "name": "python3"
  },
  "language_info": {
   "codemirror_mode": {
    "name": "ipython",
    "version": 3
   },
   "file_extension": ".py",
   "mimetype": "text/x-python",
   "name": "python",
   "nbconvert_exporter": "python",
   "pygments_lexer": "ipython3",
   "version": "3.7.1"
  }
 },
 "nbformat": 4,
 "nbformat_minor": 2
}

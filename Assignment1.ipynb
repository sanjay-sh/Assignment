{
 "cells": [
  {
   "cell_type": "code",
   "execution_count": 2,
   "metadata": {},
   "outputs": [
    {
     "name": "stdout",
     "output_type": "stream",
     "text": [
      "[2002, 2009, 2016, 2023]\n"
     ]
    }
   ],
   "source": [
    "b= []\n",
    "numbers = range(2000,3201)\n",
    "for num in numbers:\n",
    "    if num%7 == 0:\n",
    "        if num%5 ==0:\n",
    "            break\n",
    "        else:\n",
    "            b.append(num)\n",
    "print(b)            \n",
    "                "
   ]
  },
  {
   "cell_type": "code",
   "execution_count": 5,
   "metadata": {},
   "outputs": [
    {
     "name": "stdout",
     "output_type": "stream",
     "text": [
      "First name of the user: sanjay\n",
      "Last name of the user: shukla\n",
      "User name in reverse order: shukla sanjay\n"
     ]
    }
   ],
   "source": [
    "F_name = input('First name of the user: ')\n",
    "L_name = input('Last name of the user: ')\n",
    "reo = L_name+' '+ F_name #Concatenation of String\n",
    "print(\"User name in reverse order:\",reo)"
   ]
  },
  {
   "cell_type": "code",
   "execution_count": 6,
   "metadata": {},
   "outputs": [
    {
     "name": "stdout",
     "output_type": "stream",
     "text": [
      "Volume of Sphere of diameter 12 cm is = 904 \n"
     ]
    }
   ],
   "source": [
    "import math\n",
    "def volume(r):\n",
    "    result = (4/3) * math.pi * r ** 3\n",
    "    return result\n",
    "V = volume(6)\n",
    "print(\"Volume of Sphere of diameter %d cm is = %d \"%(12,V))"
   ]
  },
  {
   "cell_type": "code",
   "execution_count": null,
   "metadata": {},
   "outputs": [],
   "source": []
  }
 ],
 "metadata": {
  "kernelspec": {
   "display_name": "Python 3",
   "language": "python",
   "name": "python3"
  },
  "language_info": {
   "codemirror_mode": {
    "name": "ipython",
    "version": 3
   },
   "file_extension": ".py",
   "mimetype": "text/x-python",
   "name": "python",
   "nbconvert_exporter": "python",
   "pygments_lexer": "ipython3",
   "version": "3.7.1"
  }
 },
 "nbformat": 4,
 "nbformat_minor": 2
}

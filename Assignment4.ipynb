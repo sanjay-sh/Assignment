{
 "cells": [
  {
   "cell_type": "markdown",
   "metadata": {},
   "source": [
    "# Assignment4"
   ]
  },
  {
   "cell_type": "code",
   "execution_count": 49,
   "metadata": {},
   "outputs": [
    {
     "name": "stdout",
     "output_type": "stream",
     "text": [
      "area:6\n"
     ]
    }
   ],
   "source": [
    "class Triangle:\n",
    "    s = 0\n",
    "    area = 0\n",
    "    def __init__(self,a,b,c):\n",
    "        self.a = a\n",
    "        self.b = b\n",
    "        self.c=  c\n",
    "        \n",
    "\n",
    "class Area(Triangle):\n",
    "  \n",
    "    def CalArea(self):\n",
    "        Triangle.s =(self.a+self.b+self.c)/2\n",
    "        Triangle.area = (Triangle.s*(Triangle.s-self.a)*(Triangle.s-self.b)*(Triangle.s-self.c))**0.5\n",
    "        return print(\"area:%d\"%Triangle.area)\n",
    "       \n",
    "    \n",
    "\n",
    "area = Area(3,4,5)\n",
    "area.CalArea()\n",
    "\n",
    "    "
   ]
  },
  {
   "cell_type": "code",
   "execution_count": 50,
   "metadata": {},
   "outputs": [
    {
     "name": "stdout",
     "output_type": "stream",
     "text": [
      "['efghi', 'krish', 'sanjay']\n"
     ]
    }
   ],
   "source": [
    "b = []\n",
    "def filter_long_words(n,*wordlist):\n",
    "    for var in wordlist:\n",
    "        if len(var)>int(n):\n",
    "            b.append(var)\n",
    "    print(b)        \n",
    "            \n",
    "#Calling Function\n",
    "wordlist = ['abcd','efghi','krish','sanjay','bc']\n",
    "n = 4\n",
    "filter_long_words(n,*wordlist)   \n",
    "            \n",
    "        "
   ]
  },
  {
   "cell_type": "code",
   "execution_count": 51,
   "metadata": {},
   "outputs": [
    {
     "name": "stdout",
     "output_type": "stream",
     "text": [
      "[2, 3, 4]\n"
     ]
    }
   ],
   "source": [
    "b =[]\n",
    "def word_to_len(*wordlist):\n",
    "    for var in wordlist:\n",
    "        b.append(len(var))\n",
    "    print(b)\n",
    "#Calling Function\n",
    "wordlist = ['ad','cde','erty']\n",
    "word_to_len(*wordlist)\n",
    "    "
   ]
  },
  {
   "cell_type": "code",
   "execution_count": 48,
   "metadata": {},
   "outputs": [
    {
     "data": {
      "text/plain": [
       "False"
      ]
     },
     "execution_count": 48,
     "metadata": {},
     "output_type": "execute_result"
    }
   ],
   "source": [
    "def find_vowel(word):\n",
    "    if len(word) ==1:\n",
    "        str1 ='aeiou'\n",
    "    for var in str1:\n",
    "        if word == var:\n",
    "            return True\n",
    "            \n",
    "    else:\n",
    "        return False\n",
    "\n",
    "find_vowel('w')        \n",
    "        \n",
    "   \n",
    "        \n",
    "        "
   ]
  },
  {
   "cell_type": "code",
   "execution_count": null,
   "metadata": {},
   "outputs": [],
   "source": []
  }
 ],
 "metadata": {
  "kernelspec": {
   "display_name": "Python 3",
   "language": "python",
   "name": "python3"
  },
  "language_info": {
   "codemirror_mode": {
    "name": "ipython",
    "version": 3
   },
   "file_extension": ".py",
   "mimetype": "text/x-python",
   "name": "python",
   "nbconvert_exporter": "python",
   "pygments_lexer": "ipython3",
   "version": "3.7.1"
  }
 },
 "nbformat": 4,
 "nbformat_minor": 2
}

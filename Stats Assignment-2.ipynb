{
 "cells": [
  {
   "cell_type": "markdown",
   "metadata": {},
   "source": [
    "# Stats Assignment-2"
   ]
  },
  {
   "cell_type": "markdown",
   "metadata": {},
   "source": [
    "Q1. In each of the following situations, state whether it is a correctly stated hypothesis\n",
    "testing problem and why?\n",
    "1. 𝐻0: 𝜇 = 25, 𝐻1: 𝜇 ≠ 25\n",
    "2. 𝐻0: 𝜎 > 10, 𝐻1: 𝜎 = 10\n",
    "3. 𝐻0: 𝑥 = 50, 𝐻1: 𝑥 ≠ 50\n",
    "4. 𝐻0: 𝑝 = 0.1, 𝐻1: 𝑝 = 0.5\n",
    "5. 𝐻0: 𝑠 = 30, 𝐻1: 𝑠 > 30\n"
   ]
  },
  {
   "cell_type": "raw",
   "metadata": {},
   "source": [
    "Answer:\n",
    " H0: Null hypothesis (The null hypothesis is always what is stated to be true about the population) \n",
    " H1: Alternate hypothesis (The alternate hypothesis is always what is being claimed. Generally opposite to the null hypothesis)\n",
    " These hypothesis tests are made to use for statistical test of the data in order to accept or reject the claim has been made.\n",
    " Null Hypothesis is rejected if and only if the statistical test of claim data show that the test values like z-stat, p-value, t-stat etc. are lying in critical regime given by level of significance. Otherwise it is accepted.\n",
    " 1. Correct hypothesis testing statement . (Two-tailed test)\n",
    " 2. Incorrect altenate hypothesis. It should be- 𝐻1: 𝜎 < 10 (opposite to Null hypothsis)\n",
    " 3. Correct hypothesis testing (Two-tailed test) \n",
    " 4. Incorrect altenate hypothesis\n",
    " 5. correct altenate hypothesis (Single-tailed test)\n",
    "    "
   ]
  },
  {
   "cell_type": "markdown",
   "metadata": {},
   "source": [
    "Q2.The college bookstore tells prospective students that the average cost of its\n",
    "textbooks is Rs. 52 with a standard deviation of Rs. 4.50. A group of smart statistics\n",
    "students thinks that the average cost is higher. To test the bookstore’s claim against\n",
    "their alternative, the students will select a random sample of size 100. Assume that\n",
    "the mean from their random sample is Rs. 52.80. Perform a hypothesis test at the\n",
    "5% level of significance and state your decision."
   ]
  },
  {
   "cell_type": "raw",
   "metadata": {},
   "source": [
    "Hypothesis Testing\n",
    "𝐻0: 𝜇 = 52,\n",
    "𝐻1: 𝜇 > 52, (Claimed, Single-tailed test)\n",
    "To test the hypothesis has been claimed we performed Z-test as follows:"
   ]
  },
  {
   "cell_type": "code",
   "execution_count": 3,
   "metadata": {},
   "outputs": [
    {
     "name": "stdout",
     "output_type": "stream",
     "text": [
      "The value of Z from ztest:  1.7777777777777715\n"
     ]
    }
   ],
   "source": [
    "import numpy as np\n",
    "from scipy import stats\n",
    "import math\n",
    "PM = 52 # population mean\n",
    "n = 100 # sample size\n",
    "SM = 52.80 # sample mean\n",
    "S = 4.50 # standard deviation\n",
    "crl = .05 # critical region for Single-tailed test\n",
    "SE = S/((n) ** 0.5)\n",
    "Z = (SM-PM)/SE\n",
    "print('The value of Z from ztest: ', Z) \n",
    "    "
   ]
  },
  {
   "cell_type": "raw",
   "metadata": {},
   "source": [
    "Z-stats value for signifcance level, crl = 0.05 (for Single-tailed test) \n",
    "z > 1.645, critical region\n",
    "Since Z value from the test is lying inside a critical regime, hence Null Hypothesis (H0) is rejected."
   ]
  },
  {
   "cell_type": "markdown",
   "metadata": {},
   "source": [
    "Q3. A certain chemical pollutant in the Genesee River has been constant for several\n",
    "years with mean μ = 34 ppm (parts per million) and standard deviation σ = 8 ppm. A\n",
    "group of factory representatives whose companies discharge liquids into the river is\n",
    "now claiming that they have lowered the average with improved filtration devices. A\n",
    "group of environmentalists will test to see if this is true at the 1% level of\n",
    "significance. Assume \\ that their sample of size 50 gives a mean of 32.5 ppm.\n",
    "Perform a hypothesis test at the 1% level of significance and state your decision."
   ]
  },
  {
   "cell_type": "raw",
   "metadata": {},
   "source": [
    "Hypothesis Testing\n",
    "𝐻0: 𝜇 = 34ppm,\n",
    "𝐻1: 𝜇 < 34ppm, (Claimed, Single-tailed test)\n",
    "To test the hypothesis has been claimed we performed Z-test as follows:"
   ]
  },
  {
   "cell_type": "code",
   "execution_count": 4,
   "metadata": {},
   "outputs": [
    {
     "name": "stdout",
     "output_type": "stream",
     "text": [
      "The value of Z from ztest:  -1.3258252147247767\n"
     ]
    }
   ],
   "source": [
    "PM = 34 # population mean\n",
    "n = 50 # sample size\n",
    "SM = 32.5 # sample mean\n",
    "S = 8.0 # standard deviation\n",
    "crl = .01 # critical region for Single-tailed test\n",
    "SE = S/((n) ** 0.5)\n",
    "Z = (SM-PM)/SE\n",
    "print('The value of Z from ztest: ', Z) "
   ]
  },
  {
   "cell_type": "raw",
   "metadata": {},
   "source": [
    "Z value for 99% confidence level or 1 % of sginficance level is -2.326 which is lower than z value obtained from the Z-test, and hence it is lying outside the critical regime.\n",
    "Decision: Null hypothesis is accepted."
   ]
  },
  {
   "cell_type": "markdown",
   "metadata": {},
   "source": [
    "Q4. Based on population figures and other general information on the U.S. population,\n",
    "suppose it has been estimated that, on average, a family of four in the U.S. spends\n",
    "about $1135 annually on dental expenditures. Suppose further that a regional dental\n",
    "association wants to test to determine if this figure is accurate for their area of\n",
    "country. To test this, 22 families of 4 are randomly selected from the population in\n",
    "that area of the country and a log is kept of the family’s dental expenditure for one\n",
    "year. The resulting data are given below. Assuming, that dental expenditure is\n",
    "normally distributed in the population, use the data and an alpha of 0.5 to test the\n",
    "dental association’s hypothesis.\n",
    "1008, 812, 1117, 1323, 1308, 1415, 831, 1021, 1287, 851, 930, 730, 699,\n",
    "872, 913, 944, 954, 987, 1695, 995, 1003, 994"
   ]
  },
  {
   "cell_type": "raw",
   "metadata": {},
   "source": [
    "Hypothesis Testing\n",
    "𝐻0: 𝜇 = $1125,(Popultion mean a family of four dental expenditure annually)\n",
    "𝐻1:  𝜇 ≠ $1125, (Claimed, Two-tailed test)\n",
    "To test the hypothesis has been claimed we performed Z-test as follows:"
   ]
  },
  {
   "cell_type": "code",
   "execution_count": 6,
   "metadata": {},
   "outputs": [
    {
     "name": "stdout",
     "output_type": "stream",
     "text": [
      "Sample Mean: 1031.3181818181818\n",
      "Sample Standard Deviation 234.84799462314425 \n",
      " ----------------------------------------------------------------------------------------------------\n",
      "The value of Z from ztest:  -1.8710258825672337 \n",
      " ----------------------------------------------------------------------------------------------------\n"
     ]
    }
   ],
   "source": [
    "import numpy as np\n",
    "from scipy import stats\n",
    "PM = 1125 # population mean\n",
    "n = 22 # observation or sample size (number of family selected for test)\n",
    "testdata = [1008, 812, 1117, 1323, 1308, 1415, 831, 1021, 1287, 851, 930, 730, 699, 872, 913, 944, 954, 987, 1695, 995, 1003, 994]\n",
    "#mean value\n",
    "SM = np.mean(testdata) # Sample Mean\n",
    "#Standrad Deviation\n",
    "S = np.std(testdata) # sample Standrad Deviation\n",
    "print(\"Sample Mean:\", SM)\n",
    "print(\"Sample Standard Deviation\", S,'\\n','--'*50)\n",
    "SE = S/((n) ** 0.5) # Standard Error\n",
    "Z = (SM-PM)/SE # Ztest Value\n",
    "print('The value of Z from ztest: ', Z, '\\n','--'*50)\n"
   ]
  },
  {
   "cell_type": "raw",
   "metadata": {},
   "source": [
    "z-value <-.647 (for alpha = 0.5 in two-tailed test)\n",
    "Since Z(ztest) <-0.647 , lying inside the critical regime, hence Null hypothesis is rejected."
   ]
  },
  {
   "cell_type": "markdown",
   "metadata": {},
   "source": [
    "Q5.In a report prepared by the Economic Research Department of a major bank the\n",
    "Department manager maintains that the average annual family income on Metropolis\n",
    "is $48,432. What do you conclude about the validity of the report if a random sample\n",
    "of 400 families shows and average income of $48,574 with a standard deviation of\n",
    "2000?"
   ]
  },
  {
   "cell_type": "raw",
   "metadata": {},
   "source": [
    "Hypothesis Testing\n",
    "𝐻0: 𝜇 = 48432,(Popultion mean, Average annual family income)\n",
    "𝐻1:  𝜇 ≠ 48432, (Claimed, Two-tailed test)\n",
    "To test the hypothesis has been claimed we performed Z-test as follows:"
   ]
  },
  {
   "cell_type": "code",
   "execution_count": 1,
   "metadata": {},
   "outputs": [
    {
     "name": "stdout",
     "output_type": "stream",
     "text": [
      "The value of Z from ztest:  1.42\n"
     ]
    }
   ],
   "source": [
    "PM = 48432 # population mean\n",
    "n = 400 # sample size\n",
    "SM = 48574 # sample mean\n",
    "S = 2000 # standard deviation\n",
    "SE = S/((n) ** 0.5)\n",
    "Z = (SM-PM)/SE\n",
    "print('The value of Z from ztest: ', Z)"
   ]
  },
  {
   "cell_type": "raw",
   "metadata": {},
   "source": [
    "By considering 95% of the confidence level, means alpha = 0.05 \n",
    "hence, for alpha = 0.05 , two-tailed test\n",
    "critical regime\n",
    "z < 1.96 or z<-1.96\n",
    "whereas, Zvalue from the statitstical test is 1.42 which is not lying inside the critical regime.\n",
    "Conclusion: Null hypothesis is accepted\n"
   ]
  },
  {
   "cell_type": "raw",
   "metadata": {},
   "source": [
    "Q6.\n",
    "Suppose that in past years the average price per square foot for warehouses in the\n",
    "United States has been $32.28. A national real estate investor wants to determine\n",
    "whether that figure has changed now. The investor hires a researcher who randomly\n",
    "samples 19 warehouses that are for sale across the United States and finds that the\n",
    "mean price per square foot is $31.67, with a standard deviation of $1.29. assume\n",
    "that the prices of warehouse footage are normally distributed in population. If the\n",
    "researcher uses a 5% level of significance, what statistical conclusion can be\n",
    "reached? What are the hypotheses?"
   ]
  },
  {
   "cell_type": "raw",
   "metadata": {},
   "source": [
    "Hypothesis Testing\n",
    "𝐻0: 𝜇 = $32.28,(Popultion mean)\n",
    "𝐻1:  𝜇 ≠ $32.28, (Claimed, Two-tailed test)\n",
    "To test the hypothesis has been claimed we performed Z-test as follows:"
   ]
  },
  {
   "cell_type": "code",
   "execution_count": 7,
   "metadata": {},
   "outputs": [
    {
     "name": "stdout",
     "output_type": "stream",
     "text": [
      "The value of Z from ztest:  -2.06118477175179\n"
     ]
    }
   ],
   "source": [
    "PM = 32.28 # population mean\n",
    "n = 19 # sample size\n",
    "SM = 31.67 # sample mean\n",
    "S = 1.29 # standard deviation\n",
    "crl = .05 # critical region for Two-tailed test\n",
    "SE = S/((n) ** 0.5)\n",
    "Z = (SM-PM)/SE\n",
    "print('The value of Z from ztest: ', Z)"
   ]
  },
  {
   "cell_type": "raw",
   "metadata": {},
   "source": [
    "z < -1.96 ( for 5% singificance level in two-tailed test)\n",
    "Z(Test) < -1.96 , hence Z test value is lying inside the critical regime\n",
    " Conclusion: The claim has been made is accepted or the Null hypothesis is rejected"
   ]
  },
  {
   "cell_type": "code",
   "execution_count": null,
   "metadata": {},
   "outputs": [],
   "source": []
  },
  {
   "cell_type": "markdown",
   "metadata": {},
   "source": [
    "Q8. Find the t-score for a sample size of 16 taken from a population with mean 10 when\n",
    "the sample mean is 12 and the sample standard deviation is 1.5."
   ]
  },
  {
   "cell_type": "code",
   "execution_count": 4,
   "metadata": {},
   "outputs": [
    {
     "name": "stdout",
     "output_type": "stream",
     "text": [
      "tscore :  5.333333333333333 \n",
      " ------------------------------------------------------------------------------------------------------------------------\n"
     ]
    }
   ],
   "source": [
    "n = 16 # sample size\n",
    "PM = 10 # population mean\n",
    "SM = 12 # Sample mean\n",
    "S = 1.5 # Standard deviation\n",
    "SE = S/((n) ** 0.5) # Standard error\n",
    "tscore = (SM-PM)/SE\n",
    "print('tscore : ', tscore,'\\n','--'*60)"
   ]
  },
  {
   "cell_type": "markdown",
   "metadata": {},
   "source": [
    "Q9.Find the t-score below which we can expect 99% of sample means will fall if samples\n",
    "of size 16 are taken from a normally distributed population."
   ]
  },
  {
   "cell_type": "code",
   "execution_count": 5,
   "metadata": {},
   "outputs": [
    {
     "name": "stdout",
     "output_type": "stream",
     "text": [
      "tscore for alpha = 1% and df = 15 in two-tailed test:  2.947 \n",
      " ----------------------------------------------------------------------------------------------------\n"
     ]
    }
   ],
   "source": [
    "# 99% of confidence level or 99% of sample means will fall, hence alpha = 1%\n",
    "n = 16 # Sample size\n",
    "df = n-1 # Degree of freedom\n",
    "# from t-distribution table\n",
    "tscore = 2.947 # in two-tailed test \n",
    "print('tscore for alpha = 1% and df = 15 in two-tailed test: ',tscore,'\\n','--'*50)"
   ]
  },
  {
   "cell_type": "markdown",
   "metadata": {},
   "source": [
    "Q10.If a random sample of size 25 drawn from a normal population gives a mean of 60\n",
    "and a standard deviation of 4, find the range of t-scores where we can expect to find\n",
    "the middle 95% of all sample means.\n",
    "\n",
    "Comput Probability:\n",
    "P(-t0.05<t<t0.10)"
   ]
  },
  {
   "cell_type": "raw",
   "metadata": {},
   "source": [
    "n = 25 # sample size\n",
    "df = n-1 # Degree of freedom\n",
    "aplpha (critical region) = .05 for 95% of all sample means\n",
    "from table for df = 24 & alpha = .05 (Two-tailed)\n",
    "tscore = 2.064\n",
    "Range of tscore: -2.064<t<2.064 where we can find middle 95% of all means\n",
    "\n",
    "probability Calculation:\n",
    "P(-t0.05<t<t0.01) = 1-0.05-0.10 = 0.85,  [P(T<ta/2) = a/2]\n",
    "\n",
    " \n",
    " \n",
    " "
   ]
  },
  {
   "cell_type": "markdown",
   "metadata": {},
   "source": [
    "Q11.Two-tailed test for difference between two population means\n",
    "Is there evidence to conclude that the number of people travelling from Bangalore to\n",
    "Chennai is different from the number of people travelling from Bangalore to Hosur in\n",
    "a week, given the following:\n",
    "Population 1: Bangalore to Chennai n1 = 1200\n",
    "x1 = 452\n",
    "s1 = 212\n",
    "Population 2: Bangalore to Hosur n2 = 800\n",
    "x2 = 523\n",
    "s2 = 185"
   ]
  },
  {
   "cell_type": "raw",
   "metadata": {},
   "source": [
    "Hypothesis Testing\n",
    "𝐻0: 𝜇1-𝜇2=0,(assuming two popultion means are equal)\n",
    "𝐻1:  𝜇1-𝜇2 ≠ 0, (Claimed, Two-tailed test)\n",
    "To test the hypothesis has been claimed we performed Z-test(n>30) as follows:\n"
   ]
  },
  {
   "cell_type": "code",
   "execution_count": 3,
   "metadata": {},
   "outputs": [
    {
     "name": "stdout",
     "output_type": "stream",
     "text": [
      "value of Z-test: -7.926428526759299 \n",
      " --------------------------------------------------------------------------------\n"
     ]
    }
   ],
   "source": [
    "D=0\n",
    "x1 = 452 # mean of first sample bangalore to chennai\n",
    "n1 = 1200 # Sample size of first sample\n",
    "s1 =  212 # Standard deviation of first sample\n",
    "x2 = 523 # mean of second sample bangalore to hosur\n",
    "n2 = 800 # Sample size of second sample\n",
    "s2 = 185 # Standard deviation of second sample\n",
    "tdf = n1+n2-2 #Total degree of freedom \n",
    "vr1 = s1 **2 # variance of sample1\n",
    "vr2 = s2 **2 # variance of sample2\n",
    "SE=((vr1/n1)+(vr2/n2))**0.5 # Standard Error\n",
    "#SE = ((std**2/n1)+(std**2/n2))**0.5 # Standard Error\n",
    "Zscore = ((x1-x2)-D)/SE # Since sample size > 30\n",
    "print('value of Z-test:',Zscore,'\\n','--'*40)\n",
    "\n"
   ]
  },
  {
   "cell_type": "raw",
   "metadata": {},
   "source": [
    "Considering 99% of confidence level,\n",
    "alpha = 1-.99 =0.01\n",
    "from table Zscore= -2.236\n",
    "Since Z-testscore<-2.236, this is the region of rejection and hence null hypothesis is rejected.\n",
    "Conclude: In all the common level of confidence, there are enough evidence to conclude that the two population means are different. "
   ]
  },
  {
   "cell_type": "markdown",
   "metadata": {},
   "source": [
    "Q12.Is there evidence to conclude that the number of people preferring Duracell battery is\n",
    "different from the number of people preferring Energizer battery, given the following:\n",
    "Population 1: Duracell\n",
    "n1 = 100\n",
    "x1 = 308\n",
    "s1 = 84\n",
    "Population 2: Energizer\n",
    "n2 = 100\n",
    "x2 = 254\n",
    "s2 = 67"
   ]
  },
  {
   "cell_type": "raw",
   "metadata": {},
   "source": [
    "Hypothesis Testing\n",
    "𝐻0: 𝜇1-𝜇2 = 0,(Assuming two popultion means are equal)\n",
    "𝐻1:  𝜇1-𝜇2≠0, (Claimed, Two-tailed test)\n",
    "To test the hypothesis has been claimed we performed Z-test(n>30) as follows:"
   ]
  },
  {
   "cell_type": "code",
   "execution_count": 6,
   "metadata": {},
   "outputs": [
    {
     "name": "stdout",
     "output_type": "stream",
     "text": [
      "value of Z-test: 5.025702668336442 \n",
      " --------------------------------------------------------------------------------\n"
     ]
    }
   ],
   "source": [
    "D=0\n",
    "x1 = 308 # mean of first sample Duracell battery\n",
    "n1 = 100 # Sample size of first sample\n",
    "s1 =  84 # Standard deviation of first sample\n",
    "x2 = 254 # mean of second sample bangalore to hosur\n",
    "n2 = 100 # Sample size of second sample\n",
    "s2 = 67 # Standard deviation of second sample\n",
    "tdf = n1+n2-2 #Total degree of freedom \n",
    "vr1 = s1 **2 # variance of sample1\n",
    "vr2 = s2 **2 # variance of sample2\n",
    "SE=((vr1/n1)+(vr2/n2))**0.5 # standard Error considering different variances\n",
    "#std=(((n1-1)*vr1+vr2*(n2-1))/tdf)**0.5 # standard deviation of sample considering pool variance of extimation\n",
    "#SE = ((std**2/n1)+(std**2/n2))**0.5 # Standard Error\n",
    "Zscore = ((x1-x2)-D)/SE # Since sample size > 30\n",
    "print('value of Z-test:',Zscore,'\\n','--'*40)"
   ]
  },
  {
   "cell_type": "raw",
   "metadata": {},
   "source": [
    "Considering 99% of confidence level,\n",
    "alpha = 1-.99 =0.01\n",
    "from table, Zscore= 2.236\n",
    "Since Z-testscore>2.236, lying in rejection zone and hence null hypothesis is rejected.\n",
    "Conclude: There are enough evidence to show that the two population means are different in any common level of significance."
   ]
  },
  {
   "cell_type": "markdown",
   "metadata": {},
   "source": [
    "Q13. Pooled estimate of the population variance\n",
    "Does the data provide sufficient evidence to conclude that average percentage\n",
    "increase in the price of sugar differs when it is sold at two different prices?\n",
    "Population 1: Price of sugar = Rs. 27.50 n1 = 14\n",
    "x1 = 0.317%\n",
    "s1 = 0.12%\n",
    "Population 2: Price of sugar = Rs. 20.00 n2 = 9\n",
    "x2 = 0.21%\n",
    "s2 = 0.11%"
   ]
  },
  {
   "cell_type": "raw",
   "metadata": {},
   "source": [
    "Hypothesis Testing\n",
    "𝐻0: 𝜇1-𝜇2=0,(assuming two popultion means are equal)\n",
    "𝐻1:  𝜇1-𝜇2 ≠ 0, (Claimed, Two-tailed test)\n",
    "To test the hypothesis has been claimed we performed t-test(n<30) as follows:"
   ]
  },
  {
   "cell_type": "code",
   "execution_count": 9,
   "metadata": {
    "scrolled": true
   },
   "outputs": [
    {
     "name": "stdout",
     "output_type": "stream",
     "text": [
      "Total value of Degree of Freedom: 21\n",
      "value of t-test: 2.15355322387416 \n",
      " --------------------------------------------------------------------------------\n"
     ]
    }
   ],
   "source": [
    "D=0\n",
    "x1 = 0.317 # Average percentage increase in price of sugar for sample1\n",
    "n1 = 14 # Sample size of first sample\n",
    "s1 =  0.12 # Standard deviation of first sample\n",
    "x2 = 0.21 # Average percentage increase in price of sugar for sample1\n",
    "n2 = 9 # Sample size of second sample\n",
    "s2 = 0.11 # Standard deviation of second sample\n",
    "tdf = n1+n2-2 #Total degree of freedom \n",
    "vr1 = s1 **2 # variance of sample1\n",
    "vr2 = s2 **2 # variance of sample2\n",
    "#SE=((vr1/n1)+(vr2/n2))**0.5 # standard Error considering different variances\n",
    "#pool estimate of the population variance\n",
    "std=(((n1-1)*vr1+vr2*(n2-1))/tdf)**0.5 # standard deviation of sample considering pool variance of extimation\n",
    "SE = ((std**2/n1)+(std**2/n2))**0.5 # Standard Error\n",
    "tscore = ((x1-x2)-D)/SE # Since sample size > 30\n",
    "print('Total value of Degree of Freedom:', tdf)\n",
    "print('value of t-test:',tscore,'\\n','--'*40)"
   ]
  },
  {
   "cell_type": "raw",
   "metadata": {},
   "source": [
    "Considering 1% of significance level or below (<=1) in two tailed test with total degree of freedom (df) = 21\n",
    "t-test<2.831, region of acceptence, Null hypothesis accepted \n",
    "It can be concluded that the averge increase in price of sugar in two poulation means are not different.\n",
    "\n",
    "Considering level of significance >= 5%, df =21\n",
    "t-test > 2.080, region of rejection, Null hypothesis is rejected\n",
    "It can be concluded that there are not enough evidence to show the average increase in sugar price of two poulation means are different. \n"
   ]
  },
  {
   "cell_type": "markdown",
   "metadata": {},
   "source": [
    "Q14.The manufacturers of compact disk players want to test whether a small price\n",
    "reduction is enough to increase sales of their product. Is there evidence that the\n",
    "small price reduction is enough to increase sales of compact disk players?\n",
    "Population 1: Before reduction\n",
    "n1 = 15\n",
    "x1 = Rs. 6598 s1 = Rs. 844\n",
    "Population 2: After reduction n2 = 12\n",
    "x2 = RS. 6870\n",
    "s2 = Rs. 669"
   ]
  },
  {
   "cell_type": "raw",
   "metadata": {},
   "source": [
    "Hypothesis Testing\n",
    "𝐻0: 𝜇2-𝜇1<= 0,(reduction in population mean price)\n",
    "𝐻1:  𝜇2-𝜇1 > 0, (Claimed, Single-tailed test)\n",
    "To test the hypothesis has been claimed we performed t-test(n<30) as follows:"
   ]
  },
  {
   "cell_type": "code",
   "execution_count": 10,
   "metadata": {
    "scrolled": true
   },
   "outputs": [
    {
     "name": "stdout",
     "output_type": "stream",
     "text": [
      "Total value of Degree of Freedom: 25\n",
      "value of t-test: 0.9098300343990459 \n",
      " --------------------------------------------------------------------------------\n"
     ]
    }
   ],
   "source": [
    "D=0 #D<=0\n",
    "x1 = 6598 # Average percentage increase in price of sugar for sample1\n",
    "n1 = 15 # Sample size of first sample\n",
    "s1 =  844 # Standard deviation of first sample\n",
    "x2 = 6870 # Average percentage increase in price of sugar for sample1\n",
    "n2 = 12 # Sample size of second sample\n",
    "s2 = 669 # Standard deviation of second sample\n",
    "tdf = n1+n2-2 #Total degree of freedom \n",
    "vr1 = s1 **2 # variance of sample1\n",
    "vr2 = s2 **2 # variance of sample2\n",
    "#SE=((vr1/n1)+(vr2/n2))**0.5 # standard Error considering different variances\n",
    "#pool estimate of the population variance\n",
    "std=(((n1-1)*vr1+vr2*(n2-1))/tdf)**0.5 # standard deviation of sample considering pool variance of extimation\n",
    "SE = ((std**2/n1)+(std**2/n2))**0.5 # Standard Error\n",
    "tscore = ((x2-x1)-D)/SE # Since sample size > 30\n",
    "print('Total value of Degree of Freedom:', tdf)\n",
    "print('value of t-test:',tscore,'\\n','--'*40)"
   ]
  },
  {
   "cell_type": "raw",
   "metadata": {},
   "source": [
    "Considering level of significance =< 10%, and df = 25, Single-tailed test\n",
    "t-test < 1.316(t-critical), region of acceptance, H0-may not be rejected \n",
    "It can be concluded that a slight reduction in price does not significantly affect the sales.\n",
    "\n"
   ]
  },
  {
   "cell_type": "markdown",
   "metadata": {},
   "source": [
    "Q15. Comparisons of two population proportions when the hypothesized difference is zero\n",
    "Carry out a two-tailed test of the equality of banks’ share of the car loan market in\n",
    "1980 and 1995.\n",
    "Population 1: 1980\n",
    "n1 = 1000\n",
    "x1 = 53\n",
    "𝑝1 = 0.53\n",
    "Population 2: 1985\n",
    "n2 = 100\n",
    "x2 = 43\n",
    "𝑝2= 0.53"
   ]
  },
  {
   "cell_type": "raw",
   "metadata": {},
   "source": [
    "Hypothesis Testing\n",
    "𝐻0: p2-p2 = 0,(reduction in population mean price)\n",
    "𝐻1:  p2-p1 ≠ 0, (Two-talied, Single-tailed test)\n",
    "To test the hypothesis has been claimed we performed Z-test(n>30) as follows:"
   ]
  },
  {
   "cell_type": "code",
   "execution_count": 21,
   "metadata": {},
   "outputs": [
    {
     "name": "stdout",
     "output_type": "stream",
     "text": [
      "value of Z-test: 1.4153462926807452 \n",
      " --------------------------------------------------------------------------------\n"
     ]
    }
   ],
   "source": [
    "D=0 \n",
    "x1 = 53 # Mean of population1\n",
    "n1 = 100 # Sample size of first sample\n",
    "p1 =  0.53 # Proportion of sample1\n",
    "x2 = 43 # Average percentage increase in price of sugar for sample1\n",
    "n2 = 100 # Sample size of second sample\n",
    "p2 = 0.43 # Standard deviation of second sample\n",
    "p  = (x1+x2)/(n1+n2)\n",
    "SE = (p * (1-p) * ((1/n1)+(1/n2))) ** 0.5\n",
    "Z  = ((p1-p2)-D)/SE\n",
    "#tdf = n1+n2-2 #Total degree of freedom \n",
    "#vr1 = s1 **2 # variance of sample1\n",
    "#vr2 = s2 **2 # variance of sample2\n",
    "#SE=((vr1/n1)+(vr2/n2))**0.5 # standard Error considering different variances\n",
    "#pool estimate of the population variance\n",
    "#std=(((n1-1)*vr1+vr2*(n2-1))/tdf)**0.5 # standard deviation of sample considering pool variance of extimation\n",
    "#SE = ((std**2/n1)+(std**2/n2))**0.5 # Standard Error\n",
    "#tscore = ((x2-x1)-D)/SE # Since sample size > 30\n",
    "#print('Total value of Degree of Freedom:', tdf)\n",
    "print('value of Z-test:',Z,'\\n','--'*40)"
   ]
  },
  {
   "cell_type": "raw",
   "metadata": {},
   "source": [
    "Z(critical) = 1.64 for 5% significance level\n",
    "Z-test< Z(critical), region of acceptence, Null hypothesis may not be rejected."
   ]
  },
  {
   "cell_type": "markdown",
   "metadata": {},
   "source": [
    "Q16. Carry out a one-tailed test to determine whether the population proportion of\n",
    "traveler’s check buyers who buy at least $2500 in checks when sweepstakes prizes\n",
    "are offered as at least 10% higher than the proportion of such buyers when no\n",
    "sweepstakes are on.\n",
    "Population 1: With sweepstakes\n",
    "n1 = 300\n",
    "x1 = 120\n",
    "𝑝 = 0.40\n",
    "Population 2: No sweepstakes n2 = 700\n",
    "x2 = 140\n",
    "𝑝 2= 0.20"
   ]
  },
  {
   "cell_type": "raw",
   "metadata": {},
   "source": [
    "Hypothesis Testing\n",
    "𝐻0: p2-p2 <= 0.10,()\n",
    "𝐻1:  p2-p1 > 0.10, (Single-talied, Single-tailed test)\n",
    "To test the hypothesis has been claimed we performed Z-test(n>30) as follows:"
   ]
  },
  {
   "cell_type": "code",
   "execution_count": 23,
   "metadata": {},
   "outputs": [
    {
     "name": "stdout",
     "output_type": "stream",
     "text": [
      "value of Z-test: 3.303749523611152 \n",
      " --------------------------------------------------------------------------------\n"
     ]
    }
   ],
   "source": [
    "D = 0.10 \n",
    "x1 = 120 # Mean of population1\n",
    "n1 = 300 # Sample size of first sample\n",
    "p1 =  0.40 # Proportion of sample1\n",
    "x2 = 140 # Average percentage increase in price of sugar for sample1\n",
    "n2 = 700 # Sample size of second sample\n",
    "p2 = 0.20 # Standard deviation of second sample\n",
    "p  = (x1+x2)/(n1+n2)\n",
    "SE = (p * (1-p) * ((1/n1)+(1/n2))) ** 0.5\n",
    "Z  = ((p1-p2)-D)/SE\n",
    "#tdf = n1+n2-2 #Total degree of freedom \n",
    "#vr1 = s1 **2 # variance of sample1\n",
    "#vr2 = s2 **2 # variance of sample2\n",
    "#SE=((vr1/n1)+(vr2/n2))**0.5 # standard Error considering different variances\n",
    "#pool estimate of the population variance\n",
    "#std=(((n1-1)*vr1+vr2*(n2-1))/tdf)**0.5 # standard deviation of sample considering pool variance of extimation\n",
    "#SE = ((std**2/n1)+(std**2/n2))**0.5 # Standard Error\n",
    "#tscore = ((x2-x1)-D)/SE # Since sample size > 30\n",
    "#print('Total value of Degree of Freedom:', tdf)\n",
    "print('value of Z-test:', Z,'\\n','--'*40)"
   ]
  },
  {
   "cell_type": "raw",
   "metadata": {},
   "source": [
    "H0 may be accepted at any common level of significance\n",
    "Hence, proportion with sweepstakes is higher than 10% proportion without sweepstakes\n"
   ]
  },
  {
   "cell_type": "markdown",
   "metadata": {},
   "source": [
    "Q17. A die is thrown 132 times with the following results. Number turned up: 1, 2, 3, 4, 5, 6.\n",
    "Frequency: 16, 20, 25, 14, 29, 28. Is the die unbiased? Consider the degrees of freedom as 𝑝−1 ."
   ]
  },
  {
   "cell_type": "raw",
   "metadata": {},
   "source": [
    "Hypothesis Testing\n",
    "𝐻0: Dye is unbiased\n",
    "𝐻1:  Dye is not unbiased\n",
    "To test the hypothesis has been claimed we performed chi-square-test(n<30,Unkown distribution of data) as follows:"
   ]
  },
  {
   "cell_type": "code",
   "execution_count": 26,
   "metadata": {},
   "outputs": [
    {
     "name": "stdout",
     "output_type": "stream",
     "text": [
      "Degree of Freedom: 5\n",
      "Value of Chi-Squared stats: 9.0\n"
     ]
    }
   ],
   "source": [
    "N = 132 # Number of dye thrown\n",
    "x = [1,2,3,4,5,6] # Number Turned up\n",
    "Of = [16, 20, 25, 14, 29, 28] # observed frequency of number turned up\n",
    "Ef = N/len(x) # expected number of frequency of each number turned up\n",
    "DF = len(Of)-1 # Degree of Freedom\n",
    "Chisq= 0\n",
    "for i in Of:\n",
    "    Chisq = Chisq + ((i-Ef)**2)/Ef\n",
    "    #print(i)\n",
    "    \n",
    "print('Degree of Freedom:', DF)\n",
    "print('Value of Chi-Squared stats:', Chisq) "
   ]
  },
  {
   "cell_type": "raw",
   "metadata": {},
   "source": [
    "Considering 5% of significance level and DF = 5:\n",
    "From Chi-Squared Table, X2 = 11.07 which is higher than the test value , region of acceptence\n",
    "Hence, Null Hypothesis is accepted. \n"
   ]
  },
  {
   "cell_type": "raw",
   "metadata": {},
   "source": [
    "Q26.In a certain town, there are about one million eligible voters. A simple random\n",
    "sample of 10,000 eligible voters was chosen to study the relationship between\n",
    "gender and participation in the last election. The results are summarized in the\n",
    "following 2X2 (read two by two) contingency table:\n",
    "We would want to check whether being a man or a woman (columns) is independent of\n",
    "having voted in the last election (rows). In other words, is “gender and voting independent”?\n",
    "                 men        women  Total\n",
    "Voted            2792       3591   6583\n",
    "Not voted        1486        2131  3617\n",
    "--------------------------------------------------\n",
    "                 4278       2131   10000\n",
    "Sol: \n",
    " H0: Sex is independent of voting\n",
    " H1: Sex and voting is dependent(claimed)\n",
    " \n",
    " Expected table associated with H0:\n",
    "                  men        women  Total\n",
    "Voted            2731       3652   6583\n",
    "Not voted        1547       2070  3617\n",
    "--------------------------------------------------\n",
    "                 4278       2131   10000\n",
    "\n",
    "\n",
    " "
   ]
  },
  {
   "cell_type": "code",
   "execution_count": 11,
   "metadata": {},
   "outputs": [
    {
     "name": "stdout",
     "output_type": "stream",
     "text": [
      "value of Chi-squared: 6.584283456757529 \n",
      " ----------------------------------------------------------------------------------------------------\n"
     ]
    }
   ],
   "source": [
    "MO= [2792,1486] # Men observation [voted, not voted]\n",
    "WO= [3591,2131] # Womwn observation\n",
    "ME = [2731,1547]# Expected\n",
    "WE = [3652,2070]#Expected\n",
    "Df = (2-1) * (2-1)\n",
    "ChSq=0\n",
    "for i in range(len(MO)):\n",
    "    ChSq = ChSq+ (MO[i]-ME[i])**2/ME[i] + (WO[i]-WE[i])**2/WE[i]\n",
    "    \n",
    "print('value of Chi-squared:',ChSq,'\\n','--'*50)\n"
   ]
  },
  {
   "cell_type": "raw",
   "metadata": {},
   "source": [
    "From X2(Chi-Squared Table)\n",
    "X2 = 3.48 for 5% significance level and df =1\n",
    "X2 = 6.58 for 1% significance level and df =1\n",
    "Since the observed X2 = 6.58 and thus,\n",
    "3.84(5%) < X2 < 6.64(1%) \n",
    "we conclude that:\n",
    "1% < P-value < 5%\n",
    "and we reject the NULL. The data supports the hypothesis that sex and voting are dependent in this town"
   ]
  },
  {
   "cell_type": "raw",
   "metadata": {},
   "source": [
    "Q19.\n",
    "A sample of 100 voters are asked which of four candidates they would vote for in an\n",
    "election. The number supporting each candidate is given below:\n",
    "   \n",
    "   Higgins  Reardon White  Charlton\n",
    "   41       19      24      16 \n",
    "    \n",
    "Do the data suggest that all candidates are equally popular? [Chi-Square = 14.96,\n",
    "with 3 df, 𝑝 0.05 .\n",
    "\n",
    "Sol:\n",
    " H0: All condidates are Equally popuar (Expected)\n",
    " H1: All condidtaes are not Equally popular(Observation)\n",
    " \n",
    " Associated Expected Table:\n",
    " Higgins Reardon White Charlton\n",
    " 25      25      25    25\n",
    " \n",
    " Degree of freedom = 4-1 =3\n",
    " "
   ]
  },
  {
   "cell_type": "code",
   "execution_count": 16,
   "metadata": {},
   "outputs": [
    {
     "name": "stdout",
     "output_type": "stream",
     "text": [
      "Value of X2: 14.959999999999999 \n",
      " ----------------------------------------------------------------------------------------------------\n"
     ]
    }
   ],
   "source": [
    "# Observed nuber supporting of condidate\n",
    "OS = [41,19,24,16]\n",
    "ES = [25,25,25,25]\n",
    "Chsq = 0\n",
    "for i in range(len(OS)):\n",
    "    Chsq= Chsq + (OS[i]-ES[i])**2/ES[i]\n",
    "   # print(Chsq)\n",
    "print('Value of X2:', Chsq,'\\n','--'*50)"
   ]
  },
  {
   "cell_type": "raw",
   "metadata": {},
   "source": [
    "From X2(Chi-Squared Table)\n",
    "X2 = 7.815 for 5% significance level and df =3\n",
    "X2 = 11.345 for 1% significance level and df =3\n",
    "Since the observed X2 = 14.96 and thus,\n",
    "P<0.05 (reject the Null Hypothesis)\n",
    "we conclude that:\n",
    "The data supports the hypothesis that all condidates are not equally popular "
   ]
  },
  {
   "cell_type": "raw",
   "metadata": {},
   "source": [
    "Q20. Children of three ages are asked to indicate their preference for three photographs of\n",
    "adults. Do the data suggest that there is a significant relationship between age and\n",
    "photograph preference? What is wrong with this study? [Chi-Square = 29.6, with 4\n",
    "df: 𝑝 < 0.05].\n",
    "\n",
    "Sol:\n",
    "                   Age of Preference\n",
    "Age of Child     A      B        C            \n",
    " 5-6 years      18     22       20\n",
    " 7-8 years       2     28       40\n",
    " 9-10 years     20     10       40\n",
    "Sol: \n",
    "H0: There is no significant relation between age and Photograph\n",
    "H1: There is a significant relation between age and photograph\n",
    "\n",
    "Data Associated to Expected\n",
    "Photograph frequency = row total * column total/ grand Total\n",
    "\n",
    "                   Age of Preference\n",
    "Age of Child     A      B        C    Row Total         \n",
    " 5-6 years      18     22       20     60\n",
    " 7-8 years       2     28       40     70\n",
    " 9-10 years     20     10       40     70\n",
    " ------------------------------------\n",
    "  column total  40     60       100   200\n",
    "  \n",
    "  \n",
    "  "
   ]
  },
  {
   "cell_type": "code",
   "execution_count": 16,
   "metadata": {},
   "outputs": [
    {
     "name": "stdout",
     "output_type": "stream",
     "text": [
      "Degree of freedom: 4\n",
      "Value of chi-square: 29.603174603174608 \n",
      " ----------------------------------------------------------------------------------------------------\n"
     ]
    }
   ],
   "source": [
    "m = 3 # number of row\n",
    "n = 3 # number of column\n",
    "df = (m-1) * (n-1) #degree of freedom\n",
    "#Observation\n",
    "ch1 = [18,22,20] # childeren 5-6 year[A,B,C], Row1\n",
    "ch2 = [2,28,40]  # Row 2\n",
    "ch3 = [20,10,40] # Row 3\n",
    "R1 = sum(ch1)\n",
    "R2 = sum(ch2)\n",
    "R3 = sum(ch3)\n",
    "Row = [R1,R2,R3] # row total\n",
    "Col = [ch1[i]+ch2[i]+ch3[i] for i in range(len(ch1))] # Column total\n",
    "Gr = sum(Row) # Grand total\n",
    "#Expected frequency\n",
    "Ech1 = [R1*Col[i]/Gr for i in range(len(Col))]\n",
    "Ech2 = [R2*Col[i]/Gr for i in range(len(Col))]\n",
    "Ech3 = [R3*Col[i]/Gr for i in range(len(Col))]\n",
    "########\n",
    "O = ch1 + ch2 + ch3  # Observation list\n",
    "E = Ech1 + Ech2 + Ech3 # Expectation List\n",
    "Chsq = 0\n",
    "for i in range(len(O)):\n",
    "    Chsq = Chsq + (O[i]-E[i])**2/E[i]\n",
    "    \n",
    "print('Degree of freedom:',df)    \n",
    "print('Value of chi-square:', Chsq,'\\n', '--'*50)    \n",
    "\n",
    "\n"
   ]
  },
  {
   "cell_type": "raw",
   "metadata": {},
   "source": [
    "The critical value of Chi-Square in the table for a 0.001 significance level and 4 d.f. is 18.46. Our obtained Chi-Square value is bigger than this: therefore we have a Chi-Square value which is so large that it would occur by chance only about once in a thousand times. It seems more reasonable to accept the alternative hypothesis, that there is a significant relationship between age of child and photograph preference."
   ]
  },
  {
   "cell_type": "raw",
   "metadata": {},
   "source": [
    "Q21. A study of conformity using the Asch paradigm involved two conditions: one where\n",
    "one confederate supported the true judgement and another where no confederate\n",
    "gave the correct response.\n",
    "               Support      No Support Row total\n",
    "Conform        18            40         58\n",
    "Not Conform    32            10         42\n",
    "Col.Total      50            50         100\n",
    "\n",
    "Is there a significant difference between the \"support\" and \"no support\" conditions in the\n",
    "frequency with which individuals are likely to conform? [Chi-Square = 19.87, with 1 df:\n",
    "𝑝 < 0.05].    \n",
    "\n",
    "Sol:\n",
    "H0: There is no difference between the support and no support\n",
    "H1: There is a difference between the support and no support\n",
    "\n",
    "Expected response corresponds to H0:\n",
    "               Support      No Support\n",
    "Conform        29            29\n",
    "Not Conform    21            21\n"
   ]
  },
  {
   "cell_type": "code",
   "execution_count": 13,
   "metadata": {},
   "outputs": [
    {
     "name": "stdout",
     "output_type": "stream",
     "text": [
      "Degree of freedom: 1\n",
      "Value of chi-square: 19.868637110016422 \n",
      " ----------------------------------------------------------------------------------------------------\n"
     ]
    }
   ],
   "source": [
    "m = 2 # number of row\n",
    "n = 2 # number of column\n",
    "df = (m-1) * (n-1) #degree of freedom\n",
    "#Observation\n",
    "conf = [18,40] # Row1\n",
    "nconf = [32,10]  # Row 2\n",
    "R1 = sum(conf)\n",
    "R2 = sum(nconf)\n",
    "Row = [R1,R2] # row total\n",
    "Col = [conf[i]+nconf[i] for i in range(len(conf))] # Column total\n",
    "Gr = sum(Row) # Grand total\n",
    "#Expected frequency\n",
    "Econf = [R1*Col[i]/Gr for i in range(len(Col))]\n",
    "Enconf = [R2*Col[i]/Gr for i in range(len(Col))]\n",
    "\n",
    "########\n",
    "O = conf + nconf  # Observation list\n",
    "E = Econf + Enconf  # Expectation List\n",
    "Chsq = 0\n",
    "for i in range(len(O)):\n",
    "    Chsq = Chsq + (O[i]-E[i])**2/E[i]\n",
    "print('Degree of freedom:',df)    \n",
    "print('Value of chi-square:', Chsq,'\\n', '--'*50)"
   ]
  },
  {
   "cell_type": "raw",
   "metadata": {},
   "source": [
    "For 5% significance level with df =1\n",
    "X2 = 3.841\n",
    "Even with 0.1% Significance level with df =1\n",
    "X2 = 10.821\n",
    "\n",
    "Whereas,\n",
    "X2(text) = 19.87\n",
    "p <0.05\n",
    "\n",
    "Hence, Null is rejected\n",
    "Conclusion: There is a significant difference between support and no support.\n"
   ]
  },
  {
   "cell_type": "raw",
   "metadata": {},
   "source": [
    "Q22. We want to test whether short people differ with respect to their leadership qualities\n",
    "(Genghis Khan, Adolf Hitler and Napoleon were all stature-deprived, and how many midget\n",
    "MP's are there?) The following table shows the frequencies with which 43 short people and\n",
    "52 tall people were categorized as \"leaders\", \"followers\" or as \"unclassifiable\". Is there a\n",
    "relationship between height and leadership qualities?\n",
    "[Chi-Square = 10.71, with 2 df: 𝑝 < 0.01].\n",
    "                         Height\n",
    "            -------------------------------------------\n",
    "                Short                Tall    Row Total\n",
    " Leader         12                    32      44\n",
    " Follower       22                    14      36\n",
    " Unclassified   9                     6       15\n",
    " Col. Total     43                    52      95\n",
    " \n",
    " Sol:\n",
    " \n",
    " H0: There is a no relationship between height and leadership\n",
    " H1: There is a relationship between height and leadership\n",
    " \n",
    " Expected table associated with H0:\n",
    "                         Height\n",
    "            -------------------------------------------\n",
    "                Short                Tall    Row Total\n",
    " Leader         20                    24      44\n",
    " Follower       16                    20      36\n",
    " Unclassified   7                     8       15\n",
    " Col. Total     43                    52      95\n",
    " "
   ]
  },
  {
   "cell_type": "code",
   "execution_count": 14,
   "metadata": {},
   "outputs": [
    {
     "name": "stdout",
     "output_type": "stream",
     "text": [
      "Degree of freedom: 2\n",
      "Value of chi-square: 10.712198008709638 \n",
      " ----------------------------------------------------------------------------------------------------\n"
     ]
    }
   ],
   "source": [
    "m = 3 # number of row\n",
    "n = 2 # number of column\n",
    "df = (m-1) * (n-1) #degree of freedom\n",
    "#Observation\n",
    "L = [12,32] # Row1\n",
    "F = [22,14]  # Row 2\n",
    "U = [9,6]  # Row 3\n",
    "R1 = sum(L)\n",
    "R2 = sum(F)\n",
    "R3 = sum(U)\n",
    "Row = [R1,R2,R3] # row total\n",
    "Col = [L[i]+F[i]+U[i] for i in range(len(conf))] # Column total\n",
    "Gr = sum(Row) # Grand total\n",
    "#Expected frequency\n",
    "EL = [R1*Col[i]/Gr for i in range(len(Col))]\n",
    "EF = [R2*Col[i]/Gr for i in range(len(Col))]\n",
    "EU = [R3*Col[i]/Gr for i in range(len(Col))]\n",
    "\n",
    "########\n",
    "O = L + F + U  # Observation list\n",
    "E = EL + EF + EU  # Expectation List\n",
    "Chsq = 0\n",
    "for i in range(len(O)):\n",
    "    Chsq = Chsq + (O[i]-E[i])**2/E[i]\n",
    "print('Degree of freedom:',df)    \n",
    "print('Value of chi-square:', Chsq,'\\n', '--'*50)"
   ]
  },
  {
   "cell_type": "raw",
   "metadata": {},
   "source": [
    "For 5% significance level with df =2\n",
    "X2 = 5.991\n",
    "with\n",
    "1%\n",
    "X2 = 9.210\n",
    "and with 0.1% \n",
    "X2 = 13.816\n",
    "\n",
    "Whereas,\n",
    "X2(text) = 10.71\n",
    "p <0.01\n",
    "\n",
    "Hence,  9.210<X2(test)<13.816\n",
    "hence H0 is rarely posiible, it may be rejected\n",
    "Conclusion: There is a relationship exit between height and leadership. This can be failed rarely one in 1000 test."
   ]
  }
 ],
 "metadata": {
  "kernelspec": {
   "display_name": "Python 3",
   "language": "python",
   "name": "python3"
  },
  "language_info": {
   "codemirror_mode": {
    "name": "ipython",
    "version": 3
   },
   "file_extension": ".py",
   "mimetype": "text/x-python",
   "name": "python",
   "nbconvert_exporter": "python",
   "pygments_lexer": "ipython3",
   "version": "3.7.1"
  }
 },
 "nbformat": 4,
 "nbformat_minor": 2
}
